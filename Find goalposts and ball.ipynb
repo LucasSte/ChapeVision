{
 "cells": [
  {
   "cell_type": "markdown",
   "metadata": {},
   "source": [
    "### Codigo to find goalposts and the ball"
   ]
  },
  {
   "cell_type": "code",
   "execution_count": 1,
   "metadata": {},
   "outputs": [],
   "source": [
    "import os\n",
    "os.environ[\"CUDA_VISIBLE_DEVICES\"] = \"-1\""
   ]
  },
  {
   "cell_type": "code",
   "execution_count": 2,
   "metadata": {},
   "outputs": [
    {
     "name": "stderr",
     "output_type": "stream",
     "text": [
      "Using TensorFlow backend.\n"
     ]
    }
   ],
   "source": [
    "import tensorflow as tf\n",
    "from keras import layers\n",
    "from keras.layers import Input, Dense, Activation, ZeroPadding2D, BatchNormalization, Flatten, Conv2D\n",
    "from keras.layers import AveragePooling2D, MaxPooling2D, Dropout, GlobalMaxPooling2D, GlobalAveragePooling2D\n",
    "from keras.layers import Reshape, Flatten, Lambda\n",
    "from keras.layers.advanced_activations import LeakyReLU\n",
    "from keras.layers.merge import concatenate\n",
    "from keras.models import Model\n",
    "from keras.preprocessing import image\n",
    "from keras.utils import layer_utils\n",
    "from keras.utils.data_utils import get_file\n",
    "from keras.applications.imagenet_utils import preprocess_input\n",
    "import pydot\n",
    "from IPython.display import SVG\n",
    "from keras.utils.vis_utils import model_to_dot\n",
    "from keras.utils import plot_model\n",
    "from keras.optimizers import SGD, Adam, RMSprop\n",
    "#from kt_utils import *\n",
    "\n",
    "import keras.backend as K\n",
    "K.set_image_data_format('channels_last')\n",
    "import matplotlib.pyplot as plt\n",
    "from matplotlib.pyplot import imshow\n",
    "\n",
    "%matplotlib inline"
   ]
  },
  {
   "cell_type": "code",
   "execution_count": 3,
   "metadata": {},
   "outputs": [],
   "source": [
    "import glob\n",
    "import bisect\n",
    "from os.path import basename\n",
    "import xml.etree.ElementTree\n",
    "import numpy as np\n",
    "import cv2"
   ]
  },
  {
   "cell_type": "code",
   "execution_count": 4,
   "metadata": {},
   "outputs": [],
   "source": [
    "def Reduzida25_skip(input_size, cosize):\n",
    "\n",
    "    input_image = Input(shape=(input_size, cosize, 3))\n",
    "\n",
    "    # Layer 1\n",
    "    x = Conv2D(4, (3,3), strides=(1,1), padding='same', name='conv_1', use_bias=False)(input_image)\n",
    "    x = BatchNormalization(name='norm_1')(x)\n",
    "    x = LeakyReLU(alpha=0.1)(x)\n",
    "\n",
    "    x = Conv2D(8, (3,3), strides=(1,1), padding='same', name='conv_' + str(0+2), use_bias=False)(x)\n",
    "    x = BatchNormalization(name='norm_' + str(0+2))(x)\n",
    "    x = LeakyReLU(alpha=0.1)(x)\n",
    "    \n",
    "    \n",
    "        # Layer 2 - 5\n",
    "    for i in range(1,4):\n",
    "        x = Conv2D(4*(2**i), (3,3), strides=(1,1), padding='same', name='conv_' + str(i+2), use_bias=False)(x)\n",
    "        x = BatchNormalization(name='norm_' + str(i+2))(x)\n",
    "        x = LeakyReLU(alpha=0.1)(x)\n",
    "        x = MaxPooling2D(pool_size=(2, 2))(x)\n",
    "\n",
    "        # Layer 6\n",
    "    x = Conv2D(64, (3,3), strides=(1,1), padding='same', name='conv_6', use_bias=False)(x)\n",
    "    x = BatchNormalization(name='norm_6')(x)\n",
    "    x = LeakyReLU(alpha=0.1)(x)\n",
    "    x = MaxPooling2D(pool_size=(2, 2), strides=(1,1), padding='same')(x)\n",
    "    \n",
    "    skip_connection = x\n",
    "\n",
    "        # Layer 7 - 8\n",
    "    for i in range(0,2):\n",
    "        x = Conv2D(64, (3,3), strides=(1,1), padding='same', name='conv_' + str(i+7), use_bias=False)(x)\n",
    "        x = BatchNormalization(name='norm_' + str(i+7))(x)\n",
    "        x = LeakyReLU(alpha=0.1)(x)\n",
    "        \n",
    "    skip_connection = Conv2D(64, (1,1), strides=(1,1), padding='same', name='conv_skip', use_bias=False)(skip_connection)\n",
    "    skip_connection = BatchNormalization(name='norm_21')(skip_connection)\n",
    "    skip_connection = LeakyReLU(alpha=0.1)(skip_connection)\n",
    "    #skip_connection = Lambda(space_to_depth_x2)(skip_connection)\n",
    "\n",
    "    x = concatenate([skip_connection, x])\n",
    "        \n",
    "        \n",
    "    x = Conv2D(5, (1,1), strides = (1,1), padding = 'same', name = 'conv_9', use_bias = True)(x)\n",
    "        \n",
    "    model = Model(inputs = input_image, outputs=x, name='Fast')\n",
    "        \n",
    "    \n",
    "    return model"
   ]
  },
  {
   "cell_type": "code",
   "execution_count": 5,
   "metadata": {},
   "outputs": [],
   "source": [
    "def minha2_skip_pequena(input_size, cosize):\n",
    "\n",
    "    input_image = Input(shape=(input_size, cosize, 3))\n",
    "\n",
    "    # Layer 1\n",
    "    #Originalmente era quatro, mas coloquei oito\n",
    "    x = Conv2D(8, (3,3), strides=(1,1), padding='same', name='conv_1', use_bias=False)(input_image)\n",
    "    x = BatchNormalization(name='norm_1')(x)\n",
    "    x = LeakyReLU(alpha=0.1)(x)\n",
    "    \n",
    "    x = Conv2D(8*(2**0), (3,3), strides=(1,1), padding='same', name='conv_' + str(2), use_bias=False)(x)\n",
    "    x = BatchNormalization(name='norm_' + str(2))(x)\n",
    "    x = LeakyReLU(alpha=0.1)(x)\n",
    "    \n",
    "        # Layer 2 - 5\n",
    "    for i in range(1,4):\n",
    "        x = Conv2D(8*(2**i), (3,3), strides=(1,1), padding='same', name='conv_' + str(i+2), use_bias=False)(x)\n",
    "        x = BatchNormalization(name='norm_' + str(i+2))(x)\n",
    "        x = LeakyReLU(alpha=0.1)(x)\n",
    "        x = MaxPooling2D(pool_size=(2, 2))(x)\n",
    "\n",
    "        # Layer 6\n",
    "    x = Conv2D(64, (3,3), strides=(1,1), padding='same', name='conv_6', use_bias=False)(x)\n",
    "    x = BatchNormalization(name='norm_6')(x)\n",
    "    x = LeakyReLU(alpha=0.1)(x)\n",
    "    x = MaxPooling2D(pool_size=(2, 2), strides=(1,1), padding='same')(x)\n",
    "    \n",
    "    skip_connection = x\n",
    "\n",
    "        # Layer 7 - 8\n",
    "    for i in range(0,2):\n",
    "        x = Conv2D(256, (3,3), strides=(1,1), padding='same', name='conv_' + str(i+7), use_bias=False)(x)\n",
    "        x = BatchNormalization(name='norm_' + str(i+7))(x)\n",
    "        x = LeakyReLU(alpha=0.1)(x)\n",
    "        \n",
    "    skip_connection = Conv2D(256, (1,1), strides=(1,1), padding='same', name='conv_skip', use_bias=False)(skip_connection)\n",
    "    skip_connection = BatchNormalization(name='norm_21')(skip_connection)\n",
    "    skip_connection = LeakyReLU(alpha=0.1)(skip_connection)\n",
    "    #skip_connection = Lambda(space_to_depth_x2)(skip_connection)\n",
    "\n",
    "    x = concatenate([skip_connection, x])\n",
    "        \n",
    "        \n",
    "    x = Conv2D(5, (1,1), strides = (1,1), padding = 'same', name = 'conv_9', use_bias = True)(x)\n",
    "        \n",
    "    model = Model(inputs = input_image, outputs=x, name='Fast')\n",
    "        \n",
    "    \n",
    "    return model"
   ]
  },
  {
   "cell_type": "code",
   "execution_count": 6,
   "metadata": {},
   "outputs": [
    {
     "name": "stdout",
     "output_type": "stream",
     "text": [
      "__________________________________________________________________________________________________\n",
      "Layer (type)                    Output Shape         Param #     Connected to                     \n",
      "==================================================================================================\n",
      "input_1 (InputLayer)            (None, 120, 160, 3)  0                                            \n",
      "__________________________________________________________________________________________________\n",
      "conv_1 (Conv2D)                 (None, 120, 160, 8)  216         input_1[0][0]                    \n",
      "__________________________________________________________________________________________________\n",
      "norm_1 (BatchNormalization)     (None, 120, 160, 8)  32          conv_1[0][0]                     \n",
      "__________________________________________________________________________________________________\n",
      "leaky_re_lu_1 (LeakyReLU)       (None, 120, 160, 8)  0           norm_1[0][0]                     \n",
      "__________________________________________________________________________________________________\n",
      "conv_2 (Conv2D)                 (None, 120, 160, 8)  576         leaky_re_lu_1[0][0]              \n",
      "__________________________________________________________________________________________________\n",
      "norm_2 (BatchNormalization)     (None, 120, 160, 8)  32          conv_2[0][0]                     \n",
      "__________________________________________________________________________________________________\n",
      "leaky_re_lu_2 (LeakyReLU)       (None, 120, 160, 8)  0           norm_2[0][0]                     \n",
      "__________________________________________________________________________________________________\n",
      "conv_3 (Conv2D)                 (None, 120, 160, 16) 1152        leaky_re_lu_2[0][0]              \n",
      "__________________________________________________________________________________________________\n",
      "norm_3 (BatchNormalization)     (None, 120, 160, 16) 64          conv_3[0][0]                     \n",
      "__________________________________________________________________________________________________\n",
      "leaky_re_lu_3 (LeakyReLU)       (None, 120, 160, 16) 0           norm_3[0][0]                     \n",
      "__________________________________________________________________________________________________\n",
      "max_pooling2d_1 (MaxPooling2D)  (None, 60, 80, 16)   0           leaky_re_lu_3[0][0]              \n",
      "__________________________________________________________________________________________________\n",
      "conv_4 (Conv2D)                 (None, 60, 80, 32)   4608        max_pooling2d_1[0][0]            \n",
      "__________________________________________________________________________________________________\n",
      "norm_4 (BatchNormalization)     (None, 60, 80, 32)   128         conv_4[0][0]                     \n",
      "__________________________________________________________________________________________________\n",
      "leaky_re_lu_4 (LeakyReLU)       (None, 60, 80, 32)   0           norm_4[0][0]                     \n",
      "__________________________________________________________________________________________________\n",
      "max_pooling2d_2 (MaxPooling2D)  (None, 30, 40, 32)   0           leaky_re_lu_4[0][0]              \n",
      "__________________________________________________________________________________________________\n",
      "conv_5 (Conv2D)                 (None, 30, 40, 64)   18432       max_pooling2d_2[0][0]            \n",
      "__________________________________________________________________________________________________\n",
      "norm_5 (BatchNormalization)     (None, 30, 40, 64)   256         conv_5[0][0]                     \n",
      "__________________________________________________________________________________________________\n",
      "leaky_re_lu_5 (LeakyReLU)       (None, 30, 40, 64)   0           norm_5[0][0]                     \n",
      "__________________________________________________________________________________________________\n",
      "max_pooling2d_3 (MaxPooling2D)  (None, 15, 20, 64)   0           leaky_re_lu_5[0][0]              \n",
      "__________________________________________________________________________________________________\n",
      "conv_6 (Conv2D)                 (None, 15, 20, 64)   36864       max_pooling2d_3[0][0]            \n",
      "__________________________________________________________________________________________________\n",
      "norm_6 (BatchNormalization)     (None, 15, 20, 64)   256         conv_6[0][0]                     \n",
      "__________________________________________________________________________________________________\n",
      "leaky_re_lu_6 (LeakyReLU)       (None, 15, 20, 64)   0           norm_6[0][0]                     \n",
      "__________________________________________________________________________________________________\n",
      "max_pooling2d_4 (MaxPooling2D)  (None, 15, 20, 64)   0           leaky_re_lu_6[0][0]              \n",
      "__________________________________________________________________________________________________\n",
      "conv_7 (Conv2D)                 (None, 15, 20, 256)  147456      max_pooling2d_4[0][0]            \n",
      "__________________________________________________________________________________________________\n",
      "norm_7 (BatchNormalization)     (None, 15, 20, 256)  1024        conv_7[0][0]                     \n",
      "__________________________________________________________________________________________________\n",
      "leaky_re_lu_7 (LeakyReLU)       (None, 15, 20, 256)  0           norm_7[0][0]                     \n",
      "__________________________________________________________________________________________________\n",
      "conv_skip (Conv2D)              (None, 15, 20, 256)  16384       max_pooling2d_4[0][0]            \n",
      "__________________________________________________________________________________________________\n",
      "conv_8 (Conv2D)                 (None, 15, 20, 256)  589824      leaky_re_lu_7[0][0]              \n",
      "__________________________________________________________________________________________________\n",
      "norm_21 (BatchNormalization)    (None, 15, 20, 256)  1024        conv_skip[0][0]                  \n",
      "__________________________________________________________________________________________________\n",
      "norm_8 (BatchNormalization)     (None, 15, 20, 256)  1024        conv_8[0][0]                     \n",
      "__________________________________________________________________________________________________\n",
      "leaky_re_lu_9 (LeakyReLU)       (None, 15, 20, 256)  0           norm_21[0][0]                    \n",
      "__________________________________________________________________________________________________\n",
      "leaky_re_lu_8 (LeakyReLU)       (None, 15, 20, 256)  0           norm_8[0][0]                     \n",
      "__________________________________________________________________________________________________\n",
      "concatenate_1 (Concatenate)     (None, 15, 20, 512)  0           leaky_re_lu_9[0][0]              \n",
      "                                                                 leaky_re_lu_8[0][0]              \n",
      "__________________________________________________________________________________________________\n",
      "conv_9 (Conv2D)                 (None, 15, 20, 5)    2565        concatenate_1[0][0]              \n",
      "==================================================================================================\n",
      "Total params: 821,917\n",
      "Trainable params: 819,997\n",
      "Non-trainable params: 1,920\n",
      "__________________________________________________________________________________________________\n"
     ]
    }
   ],
   "source": [
    "rede = minha2_skip_pequena(120,160)\n",
    "rede.summary()"
   ]
  },
  {
   "cell_type": "code",
   "execution_count": 7,
   "metadata": {},
   "outputs": [],
   "source": [
    "pasta_atual = os.getcwd()"
   ]
  },
  {
   "cell_type": "code",
   "execution_count": 8,
   "metadata": {},
   "outputs": [],
   "source": [
    "def Metodo(pasta):  #imagem em 1/4\n",
    "    \n",
    "    nomesdearquivos = glob.glob(pasta + '/*.xml')\n",
    "    fotos = glob.glob(pasta + '/*.png')\n",
    "    maisfotos = glob.glob(pasta+ '/*.jpg')\n",
    "    for nome in maisfotos:\n",
    "        fotos.append(nome)\n",
    "    fotosjpeg = glob.glob(pasta + '/*.jpeg')\n",
    "    for nome in fotosjpeg:\n",
    "        fotos.append(nome)\n",
    "    fotosJPG = glob.glob(pasta + '/*.JPG')\n",
    "    for nome in fotosJPG:\n",
    "        fotos.append(nome)\n",
    "    nomesdearquivos.sort()\n",
    "    fotos.sort()\n",
    "    nomesdasanotacoes = list()\n",
    "    for nomeindo in nomesdearquivos:\n",
    "        bisect.insort(nomesdasanotacoes, basename(nomeindo).split('.')[0])\n",
    "        \n",
    "    \n",
    "    para_imprimir = list()\n",
    "    entrada = list()\n",
    "    for nome in nomesdasanotacoes:\n",
    "        e = xml.etree.ElementTree.parse(pasta+'/'+nome+'.xml').getroot()\n",
    "        objects = e.findall('object')           \n",
    "        \n",
    "        resposta = np.zeros((15,20,5), dtype=float)\n",
    "        \n",
    "        ball = None\n",
    "        goalpost = None\n",
    "        goalpost_2 = None\n",
    "        \n",
    "        if objects is None:\n",
    "            para_imprimir.append(resposta)\n",
    "        else:\n",
    "            tam = len(objects)\n",
    "            for i in range(0, tam):\n",
    "                if objects[i][0].text == 'ball':\n",
    "                    ball = objects[i]\n",
    "                elif objects[i][0].text == 'goalpost':\n",
    "                    goalpost = objects[i]\n",
    "                elif objects[i][0].text == 'goalpost_2':\n",
    "                    goalpost_2 = objects[i]\n",
    "            \n",
    "            \n",
    "        if ball is not None:\n",
    "                \n",
    "            ball_xmin = float(ball[4][0].text)/4\n",
    "            ball_ymin = float(ball[4][1].text)/4\n",
    "            ball_xmax = float(ball[4][2].text)/4\n",
    "            ball_ymax = float(ball[4][3].text)/4\n",
    "                \n",
    "            ball_Xc = (ball_xmin + ball_xmax)/2\n",
    "            ball_posicx = int((ball_Xc)/8)\n",
    "            ball_Xc = ball_Xc - ball_posicx*8\n",
    "            ball_Xc = ball_Xc/8\n",
    "            ball_Yc = (ball_ymin + ball_ymax)/2\n",
    "            ball_posicy = int((ball_Yc)/8)\n",
    "            ball_Yc = ball_Yc - ball_posicy*8\n",
    "            ball_Yc = ball_Yc/8\n",
    "            ball_largura = (ball_xmax - ball_xmin)/160\n",
    "            ball_altura = (ball_ymax - ball_ymin)/160\n",
    "                \n",
    "            resposta[ball_posicy][ball_posicx][0:5] = (1, ball_Xc, ball_Yc, ball_largura, ball_altura)\n",
    "            \n",
    "        '''              \n",
    "        if goalpost is not None:\n",
    "            \n",
    "            goalpost_xmin = float(goalpost[4][0].text)/4\n",
    "            goalpost_ymin = float(goalpost[4][1].text)/4\n",
    "            goalpost_xmax = float(goalpost[4][2].text)/4\n",
    "            goalpost_ymax = float(goalpost[4][3].text)/4\n",
    "            \n",
    "            goalpost_Xc = (goalpost_xmin + goalpost_xmax)/2\n",
    "            goalpost_posicx = int((goalpost_Xc)/8)\n",
    "            goalpost_Xc = goalpost_Xc - goalpost_posicx*8\n",
    "            goalpost_Xc = goalpost_Xc/8\n",
    "            goalpost_Yc = (goalpost_ymin + goalpost_ymax)/2\n",
    "            goalpost_posicy = int((goalpost_Yc)/8)\n",
    "            goalpost_Yc = goalpost_Yc - goalpost_posicy*8\n",
    "            goalpost_Yc = goalpost_Yc/8\n",
    "            goalpost_largura = (goalpost_xmax - goalpost_xmin)/160\n",
    "            goalpost_altura = (goalpost_ymax - goalpost_ymin)/160\n",
    "            \n",
    "            resposta[goalpost_posicy][goalpost_posicx][5] = 1 #goalpost_Xc, goalpost_Yc)#, goalpost_largura, goalpost_altura)\n",
    "            #Funcao de custo esta errada, pois assim deu certo. Alem disso, escolher outra forma de \n",
    "            #marcar a trave\n",
    "        \n",
    "        if goalpost_2 is not None:\n",
    "            \n",
    "            goalpost2_xmin = float(goalpost_2[4][0].text)/4\n",
    "            goalpost2_ymin = float(goalpost_2[4][1].text)/4\n",
    "            goalpost2_xmax = float(goalpost_2[4][2].text)/4\n",
    "            goalpost2_ymax = float(goalpost_2[4][3].text)/4\n",
    "            \n",
    "            goalpost2_Xc = (goalpost2_xmin + goalpost2_xmax)/2\n",
    "            goalpost2_posicx = int((goalpost2_Xc)/8)\n",
    "            goalpost2_Xc = goalpost2_Xc - goalpost2_posicx*8\n",
    "            goalpost2_Xc = goalpost2_Xc/8\n",
    "            goalpost2_Yc = (goalpost2_ymin + goalpost2_ymax)/2\n",
    "            goalpost2_posicy = int((goalpost2_Yc)/8)\n",
    "            goalpost2_Yc = goalpost2_Yc - goalpost2_posicy*8\n",
    "            goalpost2_Yc = goalpost2_Yc/8\n",
    "            \n",
    "            resposta[goalpost2_posicy][goalpost2_posicx][6] = 1 #, goalpost_Xc, goalpost_Yc)#, goalpost_largura, goalpost_altura)\n",
    "            #Funcao de custo esta errada, pois assim deu certo. Alem disso, escolher outra forma de \n",
    "            #marcar a trave\n",
    "        '''\n",
    "        para_imprimir.append(resposta)\n",
    "        \n",
    "    Y = np.array(para_imprimir)\n",
    "\n",
    "    for arquivo in fotos:\n",
    "        img = cv2.imread(arquivo)\n",
    "        img = cv2.resize(img, (160,120), interpolation = cv2.INTER_AREA)\n",
    "        img = cv2.cvtColor(img, cv2.COLOR_BGR2RGB)\n",
    "        entrada.append(img)\n",
    "        \n",
    "    \n",
    "    X = np.array(entrada)\n",
    "    X = X.astype(float)\n",
    "    X = X/255\n",
    "    \n",
    "    return X, Y\n"
   ]
  },
  {
   "cell_type": "code",
   "execution_count": 9,
   "metadata": {},
   "outputs": [],
   "source": [
    "def Metodo2(pasta):  #imagem em 1/4\n",
    "    \n",
    "    nomesdearquivos = glob.glob(pasta + '/*.xml')\n",
    "    fotos = glob.glob(pasta + '/*.png')\n",
    "    maisfotos = glob.glob(pasta+ '/*.jpg')\n",
    "    for nome in maisfotos:\n",
    "        fotos.append(nome)\n",
    "    fotosjpeg = glob.glob(pasta + '/*.jpeg')\n",
    "    for nome in fotosjpeg:\n",
    "        fotos.append(nome)\n",
    "    fotosJPG = glob.glob(pasta + '/*.JPG')\n",
    "    for nome in fotosJPG:\n",
    "        fotos.append(nome)\n",
    "    nomesdearquivos.sort()\n",
    "    fotos.sort()\n",
    "    nomesdasanotacoes = list()\n",
    "    for nomeindo in nomesdearquivos:\n",
    "        bisect.insort(nomesdasanotacoes, basename(nomeindo).split('.')[0])\n",
    "        \n",
    "    \n",
    "    para_imprimir = list()\n",
    "    entrada = list()\n",
    "    for nome in nomesdasanotacoes:\n",
    "        e = xml.etree.ElementTree.parse(pasta+'/'+nome+'.xml').getroot()\n",
    "        objects = e.findall('object')           \n",
    "        \n",
    "        resposta = np.zeros((15,20,6), dtype=float)\n",
    "        \n",
    "        ball = None\n",
    "        goalpost = None\n",
    "        goalpost_2 = None\n",
    "        \n",
    "        if objects is None:\n",
    "            para_imprimir.append(resposta)\n",
    "        else:\n",
    "            tam = len(objects)\n",
    "            for i in range(0, tam):\n",
    "                if objects[i][0].text == 'ball':\n",
    "                    ball = objects[i]\n",
    "                elif objects[i][0].text == 'goalpost':\n",
    "                    goalpost = objects[i]\n",
    "                elif objects[i][0].text == 'goalpost_2':\n",
    "                    goalpost_2 = objects[i]\n",
    "\n",
    "                    \n",
    "        if ball is not None:\n",
    "                \n",
    "            ball_xmin = float(ball[4][0].text)/4\n",
    "            ball_ymin = float(ball[4][1].text)/4\n",
    "            ball_xmax = float(ball[4][2].text)/4\n",
    "            ball_ymax = float(ball[4][3].text)/4\n",
    "                \n",
    "            ball_Xc = (ball_xmin + ball_xmax)/2\n",
    "            ball_posicx = int((ball_Xc)/8)\n",
    "            ball_Xc = ball_Xc - ball_posicx*8\n",
    "            ball_Xc = ball_Xc/8\n",
    "            ball_Yc = (ball_ymin + ball_ymax)/2\n",
    "            ball_posicy = int((ball_Yc)/8)\n",
    "            ball_Yc = ball_Yc - ball_posicy*8\n",
    "            ball_Yc = ball_Yc/8\n",
    "            ball_largura = (ball_xmax - ball_xmin)/160\n",
    "            ball_altura = (ball_ymax - ball_ymin)/160\n",
    "                \n",
    "            resposta[ball_posicy][ball_posicx][0:5] = (1, ball_Xc, ball_Yc, ball_largura, ball_altura)\n",
    "            \n",
    "                      \n",
    "        if goalpost is not None:\n",
    "            \n",
    "            goalpost_xmin = float(goalpost[4][0].text)/4\n",
    "            goalpost_ymin = float(goalpost[4][1].text)/4\n",
    "            goalpost_xmax = float(goalpost[4][2].text)/4\n",
    "            goalpost_ymax = float(goalpost[4][3].text)/4\n",
    "            \n",
    "            goalpost_Xc = (goalpost_xmin + goalpost_xmax)/2\n",
    "            goalpost_posicx = int((goalpost_Xc)/8)\n",
    "            goalpost_Xc = goalpost_Xc - goalpost_posicx*8\n",
    "            goalpost_Xc = goalpost_Xc/8\n",
    "            goalpost_Yc = (goalpost_ymin + goalpost_ymax)/2\n",
    "            goalpost_posicy = int((goalpost_Yc)/8)\n",
    "            goalpost_Yc = goalpost_Yc - goalpost_posicy*8\n",
    "            goalpost_Yc = goalpost_Yc/8\n",
    "            goalpost_largura = (goalpost_xmax - goalpost_xmin)/160\n",
    "            goalpost_altura = (goalpost_ymax - goalpost_ymin)/160\n",
    "            \n",
    "            resposta[goalpost_posicy][goalpost_posicx][5] = 1 #goalpost_Xc, goalpost_Yc)#, goalpost_largura, goalpost_altura)\n",
    "            #Funcao de custo esta errada, pois assim deu certo. Alem disso, escolher outra forma de \n",
    "            #marcar a trave\n",
    "        \n",
    "        if goalpost_2 is not None:\n",
    "            \n",
    "            goalpost2_xmin = float(goalpost_2[4][0].text)/4\n",
    "            goalpost2_ymin = float(goalpost_2[4][1].text)/4\n",
    "            goalpost2_xmax = float(goalpost_2[4][2].text)/4\n",
    "            goalpost2_ymax = float(goalpost_2[4][3].text)/4\n",
    "            \n",
    "            goalpost2_Xc = (goalpost2_xmin + goalpost2_xmax)/2\n",
    "            goalpost2_posicx = int((goalpost2_Xc)/8)\n",
    "            goalpost2_Xc = goalpost2_Xc - goalpost2_posicx*8\n",
    "            goalpost2_Xc = goalpost2_Xc/8\n",
    "            goalpost2_Yc = (goalpost2_ymin + goalpost2_ymax)/2\n",
    "            goalpost2_posicy = int((goalpost2_Yc)/8)\n",
    "            goalpost2_Yc = goalpost2_Yc - goalpost2_posicy*8\n",
    "            goalpost2_Yc = goalpost2_Yc/8\n",
    "            \n",
    "            resposta[goalpost2_posicy][goalpost2_posicx][5] = 1 #, goalpost_Xc, goalpost_Yc)#, goalpost_largura, goalpost_altura)\n",
    "            #Funcao de custo esta errada, pois assim deu certo. Alem disso, escolher outra forma de \n",
    "            #marcar a trave\n",
    "        \n",
    "        para_imprimir.append(resposta)\n",
    "        \n",
    "    Y = np.array(para_imprimir)\n",
    "\n",
    "    for arquivo in fotos:\n",
    "        img = cv2.imread(arquivo)\n",
    "        img = cv2.resize(img, (160,120), interpolation = cv2.INTER_AREA)\n",
    "        img = cv2.cvtColor(img, cv2.COLOR_BGR2RGB)\n",
    "        entrada.append(img)\n",
    "        \n",
    "    \n",
    "    X = np.array(entrada)\n",
    "    X = X.astype(float)\n",
    "    X = X/255\n",
    "    \n",
    "    return X, Y"
   ]
  },
  {
   "cell_type": "code",
   "execution_count": 10,
   "metadata": {},
   "outputs": [
    {
     "name": "stdout",
     "output_type": "stream",
     "text": [
      "('Formato do X', (500, 120, 160, 3))\n",
      "('Foramto do Y', (500, 15, 20, 5))\n"
     ]
    }
   ],
   "source": [
    "x , y = Metodo(pasta_atual +'/Conjunto de treino/Aumento de brilho')\n",
    "x1, y1 = Metodo(pasta_atual +'/Conjunto de treino/bitbots-evaluation-640x480')\n",
    "x = np.concatenate((x,x1), axis=0)\n",
    "y = np.concatenate((y,y1), axis=0)\n",
    "x1 = None\n",
    "y1 = None\n",
    "print(\"Formato do X\", x.shape)\n",
    "print(\"Foramto do Y\", y.shape)"
   ]
  },
  {
   "cell_type": "code",
   "execution_count": 11,
   "metadata": {},
   "outputs": [
    {
     "name": "stdout",
     "output_type": "stream",
     "text": [
      "('Formato do X', (717, 120, 160, 3))\n",
      "('Foramto do Y', (717, 15, 20, 5))\n"
     ]
    }
   ],
   "source": [
    "x1, y1 = Metodo(pasta_atual +'/Conjunto de treino/bitbots-germanopen-640x480')\n",
    "x = np.concatenate((x,x1), axis=0)\n",
    "y = np.concatenate((y,y1), axis=0)\n",
    "x1 = None\n",
    "y1 = None\n",
    "print(\"Formato do X\", x.shape)\n",
    "print(\"Foramto do Y\", y.shape)"
   ]
  },
  {
   "cell_type": "code",
   "execution_count": 12,
   "metadata": {},
   "outputs": [
    {
     "name": "stdout",
     "output_type": "stream",
     "text": [
      "('Formato do X', (920, 120, 160, 3))\n",
      "('Foramto do Y', (920, 15, 20, 5))\n"
     ]
    }
   ],
   "source": [
    "x1, y1 = Metodo(pasta_atual +'/Conjunto de treino/bitbots-iran-640-480')\n",
    "x = np.concatenate((x,x1), axis=0)\n",
    "y = np.concatenate((y,y1), axis=0)\n",
    "x1 = None\n",
    "y1 = None\n",
    "print(\"Formato do X\", x.shape)\n",
    "print(\"Foramto do Y\", y.shape)"
   ]
  },
  {
   "cell_type": "code",
   "execution_count": 13,
   "metadata": {},
   "outputs": [
    {
     "name": "stdout",
     "output_type": "stream",
     "text": [
      "('Formato do X', (1564, 120, 160, 3))\n",
      "('Foramto do Y', (1564, 15, 20, 5))\n"
     ]
    }
   ],
   "source": [
    "x1, y1 = Metodo(pasta_atual +'/Conjunto de treino/bitbots-leipzig-640-360')\n",
    "x = np.concatenate((x,x1), axis=0)\n",
    "y = np.concatenate((y,y1), axis=0)\n",
    "x1 = None\n",
    "y1 = None\n",
    "print(\"Formato do X\", x.shape)\n",
    "print(\"Foramto do Y\", y.shape)"
   ]
  },
  {
   "cell_type": "code",
   "execution_count": 14,
   "metadata": {},
   "outputs": [
    {
     "name": "stdout",
     "output_type": "stream",
     "text": [
      "('Formato do X', (1985, 120, 160, 3))\n",
      "('Foramto do Y', (1985, 15, 20, 5))\n"
     ]
    }
   ],
   "source": [
    "x1, y1 = Metodo(pasta_atual +'/Conjunto de treino/bitbots-montreal')\n",
    "x = np.concatenate((x,x1), axis=0)\n",
    "y = np.concatenate((y,y1), axis=0)\n",
    "x1 = None\n",
    "y1 = None\n",
    "print(\"Formato do X\", x.shape)\n",
    "print(\"Foramto do Y\", y.shape)"
   ]
  },
  {
   "cell_type": "code",
   "execution_count": 15,
   "metadata": {},
   "outputs": [
    {
     "name": "stdout",
     "output_type": "stream",
     "text": [
      "('Formato do X', (3001, 120, 160, 3))\n",
      "('Foramto do Y', (3001, 15, 20, 5))\n"
     ]
    }
   ],
   "source": [
    "x1, y1 = Metodo(pasta_atual +'/Conjunto de treino/bitbots-nagoya2-640-480')\n",
    "x = np.concatenate((x,x1), axis=0)\n",
    "y = np.concatenate((y,y1), axis=0)\n",
    "x1 = None\n",
    "y1 = None\n",
    "print(\"Formato do X\", x.shape)\n",
    "print(\"Foramto do Y\", y.shape)"
   ]
  },
  {
   "cell_type": "code",
   "execution_count": 16,
   "metadata": {},
   "outputs": [
    {
     "name": "stdout",
     "output_type": "stream",
     "text": [
      "('Formato do X', (4466, 120, 160, 3))\n",
      "('Foramto do Y', (4466, 15, 20, 5))\n"
     ]
    }
   ],
   "source": [
    "x1, y1 = Metodo(pasta_atual +'/Conjunto de treino/bitbots-nagoya-640-480')\n",
    "x = np.concatenate((x,x1), axis=0)\n",
    "y = np.concatenate((y,y1), axis=0)\n",
    "x1 = None\n",
    "y1 = None\n",
    "print(\"Formato do X\", x.shape)\n",
    "print(\"Foramto do Y\", y.shape)"
   ]
  },
  {
   "cell_type": "code",
   "execution_count": 17,
   "metadata": {},
   "outputs": [
    {
     "name": "stdout",
     "output_type": "stream",
     "text": [
      "('Formato do X', (5466, 120, 160, 3))\n",
      "('Foramto do Y', (5466, 15, 20, 5))\n"
     ]
    }
   ],
   "source": [
    "x1, y1 = Metodo(pasta_atual +'/Conjunto de treino/bitbots-set09-640-480')\n",
    "x = np.concatenate((x,x1), axis=0)\n",
    "y = np.concatenate((y,y1), axis=0)\n",
    "x1 = None\n",
    "y1 = None\n",
    "print(\"Formato do X\", x.shape)\n",
    "print(\"Foramto do Y\", y.shape)"
   ]
  },
  {
   "cell_type": "code",
   "execution_count": 18,
   "metadata": {},
   "outputs": [
    {
     "name": "stdout",
     "output_type": "stream",
     "text": [
      "('Formato do X', (5711, 120, 160, 3))\n",
      "('Foramto do Y', (5711, 15, 20, 5))\n"
     ]
    }
   ],
   "source": [
    "x1, y1 = Metodo(pasta_atual +'/Conjunto de treino/Motion_blur')\n",
    "x = np.concatenate((x,x1), axis=0)\n",
    "y = np.concatenate((y,y1), axis=0)\n",
    "x1 = None\n",
    "y1 = None\n",
    "print(\"Formato do X\", x.shape)\n",
    "print(\"Foramto do Y\", y.shape)"
   ]
  },
  {
   "cell_type": "code",
   "execution_count": 19,
   "metadata": {},
   "outputs": [
    {
     "name": "stdout",
     "output_type": "stream",
     "text": [
      "('Formato do X', (6081, 120, 160, 3))\n",
      "('Foramto do Y', (6081, 15, 20, 5))\n"
     ]
    }
   ],
   "source": [
    "x1, y1 = Metodo(pasta_atual +'/Conjunto de treino/Mudanca de cor_1')\n",
    "x = np.concatenate((x,x1), axis=0)\n",
    "y = np.concatenate((y,y1), axis=0)\n",
    "x1 = None\n",
    "y1 = None\n",
    "print(\"Formato do X\", x.shape)\n",
    "print(\"Foramto do Y\", y.shape)"
   ]
  },
  {
   "cell_type": "code",
   "execution_count": 20,
   "metadata": {},
   "outputs": [
    {
     "name": "stdout",
     "output_type": "stream",
     "text": [
      "('Formato do X', (6266, 120, 160, 3))\n",
      "('Foramto do Y', (6266, 15, 20, 5))\n"
     ]
    }
   ],
   "source": [
    "x1, y1 = Metodo(pasta_atual +'/Conjunto de treino/Mudanca de cor_2')\n",
    "x = np.concatenate((x,x1), axis=0)\n",
    "y = np.concatenate((y,y1), axis=0)\n",
    "x1 = None\n",
    "y1 = None\n",
    "print(\"Formato do X\", x.shape)\n",
    "print(\"Foramto do Y\", y.shape)"
   ]
  },
  {
   "cell_type": "code",
   "execution_count": 21,
   "metadata": {},
   "outputs": [
    {
     "name": "stdout",
     "output_type": "stream",
     "text": [
      "('Formato do X', (6372, 120, 160, 3))\n",
      "('Foramto do Y', (6372, 15, 20, 5))\n"
     ]
    }
   ],
   "source": [
    "x1, y1 = Metodo(pasta_atual +'/Conjunto de treino/Mudanca de cor_3')\n",
    "x = np.concatenate((x,x1), axis=0)\n",
    "y = np.concatenate((y,y1), axis=0)\n",
    "x1 = None\n",
    "y1 = None\n",
    "print(\"Formato do X\", x.shape)\n",
    "print(\"Foramto do Y\", y.shape)"
   ]
  },
  {
   "cell_type": "code",
   "execution_count": 22,
   "metadata": {},
   "outputs": [
    {
     "name": "stdout",
     "output_type": "stream",
     "text": [
      "('Formato do X', (6687, 120, 160, 3))\n",
      "('Foramto do Y', (6687, 15, 20, 5))\n"
     ]
    }
   ],
   "source": [
    "x1, y1 = Metodo(pasta_atual +'/Conjunto de treino/Reducao de brilho')\n",
    "x = np.concatenate((x,x1), axis=0)\n",
    "y = np.concatenate((y,y1), axis=0)\n",
    "x1 = None\n",
    "y1 = None\n",
    "print(\"Formato do X\", x.shape)\n",
    "print(\"Foramto do Y\", y.shape)"
   ]
  },
  {
   "cell_type": "code",
   "execution_count": 23,
   "metadata": {},
   "outputs": [
    {
     "name": "stdout",
     "output_type": "stream",
     "text": [
      "('Formato do X', (8604, 120, 160, 3))\n",
      "('Foramto do Y', (8604, 15, 20, 5))\n"
     ]
    }
   ],
   "source": [
    "x1, y1 = Metodo(pasta_atual +'/Conjunto de treino/Training_filtrado')\n",
    "x = np.concatenate((x,x1), axis=0)\n",
    "y = np.concatenate((y,y1), axis=0)\n",
    "x1 = None\n",
    "y1 = None\n",
    "print(\"Formato do X\", x.shape)\n",
    "print(\"Foramto do Y\", y.shape)"
   ]
  },
  {
   "cell_type": "code",
   "execution_count": 24,
   "metadata": {},
   "outputs": [
    {
     "name": "stdout",
     "output_type": "stream",
     "text": [
      "('Formato do X', (8737, 120, 160, 3))\n",
      "('Foramto do Y', (8737, 15, 20, 5))\n"
     ]
    }
   ],
   "source": [
    "x1, y1 = Metodo(pasta_atual +'/Conjunto de treino/robocup2018')\n",
    "x = np.concatenate((x,x1), axis=0)\n",
    "y = np.concatenate((y,y1), axis=0)\n",
    "x1 = None\n",
    "y1 = None\n",
    "print(\"Formato do X\", x.shape)\n",
    "print(\"Foramto do Y\", y.shape)"
   ]
  },
  {
   "cell_type": "code",
   "execution_count": 25,
   "metadata": {},
   "outputs": [
    {
     "name": "stdout",
     "output_type": "stream",
     "text": [
      "('Formato do X', (9027, 120, 160, 3))\n",
      "('Foramto do Y', (9027, 15, 20, 5))\n"
     ]
    }
   ],
   "source": [
    "x1, y1 = Metodo(pasta_atual +'/Conjunto de treino/robocup2018_2')\n",
    "x = np.concatenate((x,x1), axis=0)\n",
    "y = np.concatenate((y,y1), axis=0)\n",
    "x1 = None\n",
    "y1 = None\n",
    "print(\"Formato do X\", x.shape)\n",
    "print(\"Foramto do Y\", y.shape)"
   ]
  },
  {
   "cell_type": "code",
   "execution_count": 26,
   "metadata": {},
   "outputs": [
    {
     "name": "stdout",
     "output_type": "stream",
     "text": [
      "('Formato do X', (9160, 120, 160, 3))\n",
      "('Foramto do Y', (9160, 15, 20, 5))\n"
     ]
    }
   ],
   "source": [
    "x1, y1 = Metodo(pasta_atual +'/Conjunto de treino/robocup_cor_1')\n",
    "x = np.concatenate((x,x1), axis=0)\n",
    "y = np.concatenate((y,y1), axis=0)\n",
    "x1 = None\n",
    "y1 = None\n",
    "print(\"Formato do X\", x.shape)\n",
    "print(\"Foramto do Y\", y.shape)"
   ]
  },
  {
   "cell_type": "code",
   "execution_count": 27,
   "metadata": {},
   "outputs": [
    {
     "name": "stdout",
     "output_type": "stream",
     "text": [
      "('Formato do X', (9450, 120, 160, 3))\n",
      "('Foramto do Y', (9450, 15, 20, 5))\n"
     ]
    }
   ],
   "source": [
    "x1, y1 = Metodo(pasta_atual +'/Conjunto de treino/robocup_cor_2')\n",
    "x = np.concatenate((x,x1), axis=0)\n",
    "y = np.concatenate((y,y1), axis=0)\n",
    "x1 = None\n",
    "y1 = None\n",
    "print(\"Formato do X\", x.shape)\n",
    "print(\"Foramto do Y\", y.shape)"
   ]
  },
  {
   "cell_type": "code",
   "execution_count": 28,
   "metadata": {},
   "outputs": [
    {
     "name": "stdout",
     "output_type": "stream",
     "text": [
      "('Formato do X', (9583, 120, 160, 3))\n",
      "('Foramto do Y', (9583, 15, 20, 5))\n"
     ]
    }
   ],
   "source": [
    "x1, y1 = Metodo(pasta_atual +'/Conjunto de treino/robocup_cor_3')\n",
    "x = np.concatenate((x,x1), axis=0)\n",
    "y = np.concatenate((y,y1), axis=0)\n",
    "x1 = None\n",
    "y1 = None\n",
    "print(\"Formato do X\", x.shape)\n",
    "print(\"Foramto do Y\", y.shape)"
   ]
  },
  {
   "cell_type": "code",
   "execution_count": 29,
   "metadata": {},
   "outputs": [
    {
     "name": "stdout",
     "output_type": "stream",
     "text": [
      "('Formato do X', (9873, 120, 160, 3))\n",
      "('Foramto do Y', (9873, 15, 20, 5))\n"
     ]
    }
   ],
   "source": [
    "x1, y1 = Metodo(pasta_atual +'/Conjunto de treino/robocup_mais_brilho')\n",
    "x = np.concatenate((x,x1), axis=0)\n",
    "y = np.concatenate((y,y1), axis=0)\n",
    "x1 = None\n",
    "y1 = None\n",
    "print(\"Formato do X\", x.shape)\n",
    "print(\"Foramto do Y\", y.shape)"
   ]
  },
  {
   "cell_type": "code",
   "execution_count": 30,
   "metadata": {},
   "outputs": [
    {
     "name": "stdout",
     "output_type": "stream",
     "text": [
      "('Formato do X', (10163, 120, 160, 3))\n",
      "('Foramto do Y', (10163, 15, 20, 5))\n"
     ]
    }
   ],
   "source": [
    "x1, y1 = Metodo(pasta_atual +'/Conjunto de treino/robocup_menos_brilho')\n",
    "x = np.concatenate((x,x1), axis=0)\n",
    "y = np.concatenate((y,y1), axis=0)\n",
    "x1 = None\n",
    "y1 = None\n",
    "print(\"Formato do X\", x.shape)\n",
    "print(\"Foramto do Y\", y.shape)"
   ]
  },
  {
   "cell_type": "code",
   "execution_count": 31,
   "metadata": {},
   "outputs": [
    {
     "name": "stdout",
     "output_type": "stream",
     "text": [
      "('Formato do X', (10296, 120, 160, 3))\n",
      "('Foramto do Y', (10296, 15, 20, 5))\n"
     ]
    }
   ],
   "source": [
    "x1, y1 = Metodo(pasta_atual +'/Conjunto de treino/robocup_motion_blur')\n",
    "x = np.concatenate((x,x1), axis=0)\n",
    "y = np.concatenate((y,y1), axis=0)\n",
    "x1 = None\n",
    "y1 = None\n",
    "print(\"Formato do X\", x.shape)\n",
    "print(\"Foramto do Y\", y.shape)"
   ]
  },
  {
   "cell_type": "code",
   "execution_count": 32,
   "metadata": {},
   "outputs": [
    {
     "name": "stdout",
     "output_type": "stream",
     "text": [
      "('Formato do X', (10874, 120, 160, 3))\n",
      "('Foramto do Y', (10874, 15, 20, 5))\n"
     ]
    }
   ],
   "source": [
    "x1, y1 = Metodo(pasta_atual +'/Conjunto de treino/robocup2018_4')\n",
    "x = np.concatenate((x,x1), axis=0)\n",
    "y = np.concatenate((y,y1), axis=0)\n",
    "x1 = None\n",
    "y1 = None\n",
    "print(\"Formato do X\", x.shape)\n",
    "print(\"Foramto do Y\", y.shape)"
   ]
  },
  {
   "cell_type": "code",
   "execution_count": 33,
   "metadata": {},
   "outputs": [
    {
     "name": "stdout",
     "output_type": "stream",
     "text": [
      "('Formato do X', (11207, 120, 160, 3))\n",
      "('Foramto do Y', (11207, 15, 20, 5))\n"
     ]
    }
   ],
   "source": [
    "x1, y1 = Metodo(pasta_atual +'/Conjunto de treino/do iPad')\n",
    "x = np.concatenate((x,x1), axis=0)\n",
    "y = np.concatenate((y,y1), axis=0)\n",
    "x1 = None\n",
    "y1 = None\n",
    "print(\"Formato do X\", x.shape)\n",
    "print(\"Foramto do Y\", y.shape)"
   ]
  },
  {
   "cell_type": "code",
   "execution_count": 34,
   "metadata": {},
   "outputs": [
    {
     "name": "stdout",
     "output_type": "stream",
     "text": [
      "('Formato do X', (11547, 120, 160, 3))\n",
      "('Foramto do Y', (11547, 15, 20, 5))\n"
     ]
    }
   ],
   "source": [
    "x1, y1 = Metodo(pasta_atual +'/Conjunto de treino/do iPad_maisbrilho')\n",
    "x = np.concatenate((x,x1), axis=0)\n",
    "y = np.concatenate((y,y1), axis=0)\n",
    "x1 = None\n",
    "y1 = None\n",
    "print(\"Formato do X\", x.shape)\n",
    "print(\"Foramto do Y\", y.shape)"
   ]
  },
  {
   "cell_type": "code",
   "execution_count": 35,
   "metadata": {},
   "outputs": [
    {
     "name": "stdout",
     "output_type": "stream",
     "text": [
      "('Formato do X', (11887, 120, 160, 3))\n",
      "('Foramto do Y', (11887, 15, 20, 5))\n"
     ]
    }
   ],
   "source": [
    "x1, y1 = Metodo(pasta_atual +'/Conjunto de treino/do iPad_menosbrilho')\n",
    "x = np.concatenate((x,x1), axis=0)\n",
    "y = np.concatenate((y,y1), axis=0)\n",
    "x1 = None\n",
    "y1 = None\n",
    "print(\"Formato do X\", x.shape)\n",
    "print(\"Foramto do Y\", y.shape)"
   ]
  },
  {
   "cell_type": "code",
   "execution_count": null,
   "metadata": {},
   "outputs": [
    {
     "name": "stdout",
     "output_type": "stream",
     "text": [
      "('Formato do X', (12134, 120, 160, 3))\n",
      "('Foramto do Y', (12134, 15, 20, 5))\n"
     ]
    }
   ],
   "source": [
    "x1, y1 = Metodo(pasta_atual +'/Conjunto de treino/robocup2018_7')\n",
    "x = np.concatenate((x,x1), axis=0)\n",
    "y = np.concatenate((y,y1), axis=0)\n",
    "x1 = None\n",
    "y1 = None\n",
    "print(\"Formato do X\", x.shape)\n",
    "print(\"Foramto do Y\", y.shape)"
   ]
  },
  {
   "cell_type": "code",
   "execution_count": null,
   "metadata": {},
   "outputs": [],
   "source": [
    "x1, y1 = Metodo(pasta_atual +'/Conjunto de treino/robocup2018_8')\n",
    "x = np.concatenate((x,x1), axis=0)\n",
    "y = np.concatenate((y,y1), axis=0)\n",
    "x1 = None\n",
    "y1 = None\n",
    "print(\"Formato do X\", x.shape)\n",
    "print(\"Foramto do Y\", y.shape)"
   ]
  },
  {
   "cell_type": "code",
   "execution_count": null,
   "metadata": {},
   "outputs": [],
   "source": [
    "x1, y1 = Metodo(pasta_atual +'/Conjunto de treino/robocup2018_10')\n",
    "x = np.concatenate((x,x1), axis=0)\n",
    "y = np.concatenate((y,y1), axis=0)\n",
    "x1 = None\n",
    "y1 = None\n",
    "print(\"Formato do X\", x.shape)\n",
    "print(\"Foramto do Y\", y.shape)"
   ]
  },
  {
   "cell_type": "code",
   "execution_count": null,
   "metadata": {},
   "outputs": [],
   "source": [
    "x1, y1 = Metodo(pasta_atual +'/Conjunto de treino/novo_brilho')\n",
    "x = np.concatenate((x,x1), axis=0)\n",
    "y = np.concatenate((y,y1), axis=0)\n",
    "x1 = None\n",
    "y1 = None\n",
    "print(\"Formato do X\", x.shape)\n",
    "print(\"Foramto do Y\", y.shape)"
   ]
  },
  {
   "cell_type": "code",
   "execution_count": null,
   "metadata": {},
   "outputs": [],
   "source": [
    "x_val, y_val = Metodo(pasta_atual +'/Validation set')\n",
    "print(\"Formato do X_val\", x_val.shape)\n",
    "print(\"Foramto do Y_val\", y_val.shape)"
   ]
  },
  {
   "cell_type": "code",
   "execution_count": 41,
   "metadata": {},
   "outputs": [],
   "source": [
    "def lucas_loss(y_true, y_pred):\n",
    "    Xc_true = y_true[...,1]\n",
    "    Xc_pred = tf.sigmoid(y_pred[..., 1])        ##mudei aqui\n",
    "    Yc_true = y_true[..., 2]\n",
    "    Yc_pred = tf.sigmoid(y_pred[..., 2])        ##mudei aqui\n",
    "    W_true = tf.sqrt(tf.abs(y_true[...,3]))\n",
    "    H_true = tf.sqrt(tf.abs(y_true[...,4]))\n",
    "    #WH_pred = tf.sqrt(tf.abs(y_pred[..., 3:5]))\n",
    "    WH_pred = tf.sqrt(tf.abs(tf.exp(y_pred[..., 3:5])*np.reshape(ANCHORS, [1,1,BOX,2])))\n",
    "    W_pred = WH_pred[...,0]\n",
    "    H_pred = WH_pred[...,1]\n",
    "    confidence_true = y_true[...,0]\n",
    "    confidence_pred = tf.sigmoid(y_pred[...,0])\n",
    "    class_true = y_true[...,0]\n",
    "    \n",
    "    Xc_pred = tf.multiply(class_true,Xc_pred)\n",
    "    Yc_pred = tf.multiply(class_true, Yc_pred)\n",
    "    H_pred = tf.multiply(class_true, H_pred)\n",
    "    W_pred = tf.multiply(class_true, W_pred)\n",
    "    \n",
    "    loss_xy = (tf.square(Xc_pred - Xc_true) + tf.square(Yc_pred - Yc_true))\n",
    "    loss_xy = 5*tf.reduce_sum(loss_xy)\n",
    "    \n",
    "    #W_pred = tf.cast(W_pred, dtype = 'float32')\n",
    "    #W_true = tf.cast(W_true, dtype = 'float32')\n",
    "    #H_pred = tf.cast(H_pred, dtype = 'float32')\n",
    "    #H_true = tf.cast(H_true, dtype = 'float32')\n",
    "    #W_dif = tf.square(tf.sqrt(tf.abs(W_pred)) - tf.sqrt(tf.abs(W_true)))\n",
    "    #H_dif = tf.square(tf.sqrt(tf.abs(H_true)) - tf.sqrt(tf.abs(H_pred)))\n",
    "    loss_wh = (tf.square(W_true - W_pred) + tf.square(H_pred - H_true))\n",
    "    loss_wh = 20*tf.reduce_sum(loss_wh)  #era 10\n",
    "    \n",
    "    no_object = 1 - class_true\n",
    "    diff_conf = tf.square(confidence_true - confidence_pred)\n",
    "    loss_no_object = (tf.multiply(diff_conf, no_object))\n",
    "    loss_no_object = 10*tf.reduce_sum(loss_no_object)  #era 0.5\n",
    "    \n",
    "    loss_object = 50*tf.reduce_sum(tf.multiply(class_true, diff_conf)) #era 5\n",
    "    \n",
    "    #loss_class = tf.nn.sigmoid_cross_entropy_with_logits(labels = class_true, logits = class_pred)\n",
    "    #loss_class = tf.reduce_sum(loss_class)\n",
    "    \n",
    "    loss = loss_xy + loss_wh + loss_no_object + loss_object #+ loss_class\n",
    "    \n",
    "    \n",
    "    return loss"
   ]
  },
  {
   "cell_type": "code",
   "execution_count": 42,
   "metadata": {},
   "outputs": [],
   "source": [
    "def ball_goalpost_loss2(y_true, y_pred):\n",
    "    Xc_true = y_true[...,1]\n",
    "    Xc_pred = tf.sigmoid(y_pred[..., 1])        ##mudei aqui\n",
    "    Yc_true = y_true[..., 2]\n",
    "    Yc_pred = tf.sigmoid(y_pred[..., 2])        ##mudei aqui\n",
    "    W_true = tf.sqrt(tf.abs(y_true[...,3]))\n",
    "    H_true = tf.sqrt(tf.abs(y_true[...,4]))\n",
    "    #WH_pred = tf.sqrt(tf.abs(y_pred[..., 3:5]))\n",
    "    WH_pred = tf.sqrt(tf.abs(tf.exp(y_pred[..., 3:5])*np.reshape(ANCHORS, [1,1,BOX,2])))\n",
    "    W_pred = WH_pred[...,0]\n",
    "    H_pred = WH_pred[...,1]\n",
    "    confidence_true = y_true[...,0]\n",
    "    confidence_pred = tf.sigmoid(y_pred[...,0])\n",
    "    class_true = y_true[...,0]\n",
    "    \n",
    "    confidence_true_post = y_true[...,5]\n",
    "    #confidence_true_post2 = y_true[...,6]\n",
    "    confidence_pred_post = tf.sigmoid(y_pred[...,5])\n",
    "    #confidence_pred_post2 = tf.sigmoid(y_pred[...,6])\n",
    "    class_true_post = y_true[...,5]\n",
    "    #class_true_post2 = y_true[...,6]\n",
    "    \n",
    "    \n",
    "    Xc_pred = tf.multiply(class_true,Xc_pred)\n",
    "    Yc_pred = tf.multiply(class_true, Yc_pred)\n",
    "    H_pred = tf.multiply(class_true, H_pred)\n",
    "    W_pred = tf.multiply(class_true, W_pred)\n",
    "    \n",
    "    loss_xy = (tf.square(Xc_pred - Xc_true) + tf.square(Yc_pred - Yc_true))\n",
    "    loss_xy = 5*tf.reduce_sum(loss_xy)\n",
    "    \n",
    "    \n",
    "    loss_wh = (tf.square(W_true - W_pred) + tf.square(H_pred - H_true))\n",
    "    loss_wh = 20*tf.reduce_sum(loss_wh)  #era 10\n",
    "    \n",
    "    no_object = 1 - class_true\n",
    "    diff_conf = tf.square(confidence_true - confidence_pred)\n",
    "    loss_no_object = (tf.multiply(diff_conf, no_object))\n",
    "    loss_no_object = 10*tf.reduce_sum(loss_no_object)  #era 0.5\n",
    "    \n",
    "    loss_object = 50*tf.reduce_sum(tf.multiply(class_true, diff_conf)) #era 5\n",
    "    \n",
    "    \n",
    "    no_object_post = 1 - class_true_post\n",
    "    diff_conf_post = tf.square(confidence_true_post - confidence_pred_post)\n",
    "    loss_no_object_post = (tf.multiply(diff_conf_post, no_object_post))\n",
    "    loss_no_object_post = 10*tf.reduce_sum(loss_no_object_post)  #era 0.5\n",
    "    \n",
    "    loss_object_post = 50*tf.reduce_sum(tf.multiply(class_true_post, diff_conf_post)) #era 5\n",
    "    \n",
    "    \n",
    "    #no_object_post2 = 1 - class_true_post2\n",
    "    #diff_conf_post2 = tf.square(confidence_true_post2 - confidence_pred_post2)\n",
    "    #loss_no_object_post2 = (tf.multiply(diff_conf_post2, no_object_post2))\n",
    "    #loss_no_object_post2 = 10*tf.reduce_sum(loss_no_object_post2)  #era 0.5\n",
    "    \n",
    "    #loss_object_post2 = 50*tf.reduce_sum(tf.multiply(class_true_post2, diff_conf_post2))\n",
    "    \n",
    "    \n",
    "    #loss_class = tf.nn.sigmoid_cross_entropy_with_logits(labels = class_true, logits = class_pred)\n",
    "    #loss_class = tf.reduce_sum(loss_class)\n",
    "    \n",
    "    loss = loss_xy + loss_wh + loss_no_object + loss_object + loss_no_object_post + loss_object_post #+ loss_no_object_post2 + loss_object_post2 #+ loss_class\n",
    "    \n",
    "    \n",
    "    return loss"
   ]
  },
  {
   "cell_type": "code",
   "execution_count": 43,
   "metadata": {},
   "outputs": [],
   "source": [
    "import keras\n",
    "callbacks = keras.callbacks.EarlyStopping(monitor='loss', min_delta=0.01,patience=1, verbose=0, mode='auto')"
   ]
  },
  {
   "cell_type": "code",
   "execution_count": 44,
   "metadata": {},
   "outputs": [
    {
     "name": "stdout",
     "output_type": "stream",
     "text": [
      "Train on 12665 samples, validate on 1173 samples\n",
      "Epoch 1/100\n",
      "12665/12665 [==============================] - 340s 27ms/step - loss: 166.8403 - val_loss: 95.4709\n",
      "Epoch 2/100\n",
      "12665/12665 [==============================] - 314s 25ms/step - loss: 54.3260 - val_loss: 78.6603\n",
      "Epoch 3/100\n",
      "12665/12665 [==============================] - 314s 25ms/step - loss: 40.9801 - val_loss: 66.9265\n",
      "Epoch 4/100\n",
      "12665/12665 [==============================] - 315s 25ms/step - loss: 34.5605 - val_loss: 64.3969\n",
      "Epoch 5/100\n",
      "12665/12665 [==============================] - 324s 26ms/step - loss: 30.1987 - val_loss: 63.0345\n",
      "Epoch 6/100\n",
      "12665/12665 [==============================] - 317s 25ms/step - loss: 26.8821 - val_loss: 60.9941\n",
      "Epoch 7/100\n",
      "12665/12665 [==============================] - 317s 25ms/step - loss: 24.4280 - val_loss: 55.9051\n",
      "Epoch 8/100\n",
      "12665/12665 [==============================] - 317s 25ms/step - loss: 22.2490 - val_loss: 59.8634\n",
      "Epoch 9/100\n",
      "12665/12665 [==============================] - 317s 25ms/step - loss: 20.5938 - val_loss: 53.9244\n",
      "Epoch 10/100\n",
      "12665/12665 [==============================] - 317s 25ms/step - loss: 19.3690 - val_loss: 57.4176\n",
      "Epoch 11/100\n",
      "12665/12665 [==============================] - 317s 25ms/step - loss: 17.7518 - val_loss: 53.3794\n",
      "Epoch 12/100\n",
      "12665/12665 [==============================] - 317s 25ms/step - loss: 16.7251 - val_loss: 51.3396\n",
      "Epoch 13/100\n",
      "12665/12665 [==============================] - 317s 25ms/step - loss: 15.7051 - val_loss: 57.3491\n",
      "Epoch 14/100\n",
      "12665/12665 [==============================] - 317s 25ms/step - loss: 15.1177 - val_loss: 55.3280\n",
      "Epoch 15/100\n",
      "12665/12665 [==============================] - 317s 25ms/step - loss: 13.9489 - val_loss: 59.5391\n",
      "Epoch 16/100\n",
      "12665/12665 [==============================] - 317s 25ms/step - loss: 13.5171 - val_loss: 59.7616\n",
      "Epoch 17/100\n",
      "12665/12665 [==============================] - 317s 25ms/step - loss: 12.7785 - val_loss: 54.6236\n",
      "Epoch 18/100\n",
      "12665/12665 [==============================] - 317s 25ms/step - loss: 11.8114 - val_loss: 50.4977\n",
      "Epoch 19/100\n",
      "12665/12665 [==============================] - 317s 25ms/step - loss: 11.6720 - val_loss: 48.6123\n",
      "Epoch 20/100\n",
      "12665/12665 [==============================] - 317s 25ms/step - loss: 11.0798 - val_loss: 55.4418\n",
      "Epoch 21/100\n",
      "12665/12665 [==============================] - 317s 25ms/step - loss: 10.4475 - val_loss: 57.5951\n",
      "Epoch 22/100\n",
      "12665/12665 [==============================] - 317s 25ms/step - loss: 10.2727 - val_loss: 57.0916\n",
      "Epoch 23/100\n",
      "12665/12665 [==============================] - 318s 25ms/step - loss: 9.6983 - val_loss: 63.7472\n",
      "Epoch 24/100\n",
      "12665/12665 [==============================] - 317s 25ms/step - loss: 9.3351 - val_loss: 51.9428\n",
      "Epoch 25/100\n",
      "12665/12665 [==============================] - 318s 25ms/step - loss: 9.3067 - val_loss: 60.8698\n",
      "Epoch 26/100\n",
      "12665/12665 [==============================] - 321s 25ms/step - loss: 8.7251 - val_loss: 55.4032\n",
      "Epoch 27/100\n",
      "12665/12665 [==============================] - 334s 26ms/step - loss: 8.4114 - val_loss: 59.9000\n",
      "Epoch 28/100\n",
      "12665/12665 [==============================] - 325s 26ms/step - loss: 8.2392 - val_loss: 53.1789\n",
      "Epoch 29/100\n",
      "12665/12665 [==============================] - 322s 25ms/step - loss: 8.0060 - val_loss: 59.6886\n",
      "Epoch 30/100\n",
      "12665/12665 [==============================] - 322s 25ms/step - loss: 7.9513 - val_loss: 52.0917\n",
      "Epoch 31/100\n",
      "12665/12665 [==============================] - 322s 25ms/step - loss: 7.4946 - val_loss: 61.0298\n",
      "Epoch 32/100\n",
      "12665/12665 [==============================] - 322s 25ms/step - loss: 7.6472 - val_loss: 57.3921\n",
      "Epoch 33/100\n",
      "12665/12665 [==============================] - 323s 25ms/step - loss: 7.0936 - val_loss: 64.2781\n",
      "Epoch 34/100\n",
      "12665/12665 [==============================] - 318s 25ms/step - loss: 7.0091 - val_loss: 63.1944\n",
      "Epoch 35/100\n",
      "12665/12665 [==============================] - 315s 25ms/step - loss: 6.9918 - val_loss: 61.0739\n",
      "Epoch 36/100\n",
      "12665/12665 [==============================] - 315s 25ms/step - loss: 6.6972 - val_loss: 63.0673\n",
      "Epoch 37/100\n",
      "12665/12665 [==============================] - 318s 25ms/step - loss: 6.5682 - val_loss: 61.1154\n",
      "Epoch 38/100\n",
      "12665/12665 [==============================] - 318s 25ms/step - loss: 6.4705 - val_loss: 60.6791\n",
      "Epoch 39/100\n",
      "12665/12665 [==============================] - 318s 25ms/step - loss: 6.3878 - val_loss: 57.8203\n",
      "Epoch 40/100\n",
      "12665/12665 [==============================] - 326s 26ms/step - loss: 6.1876 - val_loss: 64.8172\n",
      "Epoch 41/100\n",
      "12665/12665 [==============================] - 321s 25ms/step - loss: 6.0766 - val_loss: 63.4790\n",
      "Epoch 42/100\n",
      "12665/12665 [==============================] - 321s 25ms/step - loss: 5.7738 - val_loss: 58.9767\n",
      "Epoch 43/100\n",
      "12665/12665 [==============================] - 324s 26ms/step - loss: 5.7119 - val_loss: 56.4913\n",
      "Epoch 44/100\n",
      "12665/12665 [==============================] - 324s 26ms/step - loss: 5.5560 - val_loss: 63.9821\n",
      "Epoch 45/100\n",
      "12665/12665 [==============================] - 324s 26ms/step - loss: 5.6228 - val_loss: 61.0432\n",
      "Epoch 46/100\n",
      "12665/12665 [==============================] - 329s 26ms/step - loss: 5.3399 - val_loss: 57.7099\n",
      "Epoch 47/100\n",
      "12665/12665 [==============================] - 324s 26ms/step - loss: 5.3601 - val_loss: 60.0044\n",
      "Epoch 48/100\n",
      "12665/12665 [==============================] - 324s 26ms/step - loss: 5.2133 - val_loss: 63.7725\n",
      "Epoch 49/100\n",
      "12665/12665 [==============================] - 324s 26ms/step - loss: 5.0612 - val_loss: 72.8365\n",
      "Epoch 50/100\n",
      "12665/12665 [==============================] - 324s 26ms/step - loss: 5.0774 - val_loss: 60.9898\n",
      "Epoch 51/100\n",
      "12665/12665 [==============================] - 324s 26ms/step - loss: 4.9236 - val_loss: 62.4731\n",
      "Epoch 52/100\n",
      "12665/12665 [==============================] - 324s 26ms/step - loss: 4.8512 - val_loss: 57.7101\n",
      "Epoch 53/100\n",
      "12665/12665 [==============================] - 314s 25ms/step - loss: 5.0279 - val_loss: 57.5650\n",
      "Epoch 54/100\n",
      "12665/12665 [==============================] - 314s 25ms/step - loss: 4.8915 - val_loss: 67.0799\n",
      "Epoch 55/100\n",
      "12665/12665 [==============================] - 314s 25ms/step - loss: 4.6469 - val_loss: 62.3942\n",
      "Epoch 56/100\n",
      "12665/12665 [==============================] - 314s 25ms/step - loss: 4.6756 - val_loss: 58.0714\n",
      "Epoch 57/100\n",
      "12665/12665 [==============================] - 315s 25ms/step - loss: 4.5719 - val_loss: 63.4404\n",
      "Epoch 58/100\n",
      "12665/12665 [==============================] - 315s 25ms/step - loss: 4.2106 - val_loss: 65.4005\n",
      "Epoch 59/100\n",
      "12665/12665 [==============================] - 315s 25ms/step - loss: 4.5047 - val_loss: 61.0920\n",
      "Epoch 60/100\n",
      "12665/12665 [==============================] - 315s 25ms/step - loss: 4.6111 - val_loss: 63.9203\n",
      "Epoch 61/100\n",
      "12665/12665 [==============================] - 315s 25ms/step - loss: 4.4231 - val_loss: 63.9291\n",
      "Epoch 62/100\n",
      "12665/12665 [==============================] - 315s 25ms/step - loss: 4.2687 - val_loss: 57.3099\n",
      "Epoch 63/100\n",
      "12665/12665 [==============================] - 314s 25ms/step - loss: 4.3159 - val_loss: 59.8028\n",
      "Epoch 64/100\n",
      "12665/12665 [==============================] - 314s 25ms/step - loss: 4.0324 - val_loss: 58.0661\n",
      "Epoch 65/100\n",
      "12665/12665 [==============================] - 314s 25ms/step - loss: 4.2656 - val_loss: 69.6160\n",
      "Epoch 66/100\n",
      "12665/12665 [==============================] - 326s 26ms/step - loss: 4.1145 - val_loss: 58.3858\n",
      "Epoch 67/100\n",
      "12665/12665 [==============================] - 321s 25ms/step - loss: 4.0916 - val_loss: 64.2054\n",
      "Epoch 68/100\n",
      "12665/12665 [==============================] - 321s 25ms/step - loss: 4.0996 - val_loss: 67.7805\n",
      "Epoch 69/100\n",
      "12665/12665 [==============================] - 321s 25ms/step - loss: 4.1711 - val_loss: 57.9943\n",
      "Epoch 70/100\n",
      "12665/12665 [==============================] - 321s 25ms/step - loss: 3.8377 - val_loss: 64.0369\n",
      "Epoch 71/100\n",
      "12665/12665 [==============================] - 329s 26ms/step - loss: 3.9113 - val_loss: 56.8476\n",
      "Epoch 72/100\n",
      "12665/12665 [==============================] - 321s 25ms/step - loss: 3.7922 - val_loss: 62.1187\n",
      "Epoch 73/100\n",
      "12665/12665 [==============================] - 321s 25ms/step - loss: 3.7611 - val_loss: 62.0553\n",
      "Epoch 74/100\n",
      "12665/12665 [==============================] - 316s 25ms/step - loss: 3.7266 - val_loss: 65.8621\n",
      "Epoch 75/100\n",
      "12665/12665 [==============================] - 314s 25ms/step - loss: 3.6704 - val_loss: 66.8548\n",
      "Epoch 76/100\n",
      "12665/12665 [==============================] - 314s 25ms/step - loss: 3.6981 - val_loss: 69.9137\n",
      "Epoch 77/100\n",
      "12665/12665 [==============================] - 314s 25ms/step - loss: 3.7015 - val_loss: 67.5631\n",
      "Epoch 78/100\n",
      "12665/12665 [==============================] - 315s 25ms/step - loss: 3.6975 - val_loss: 61.2703\n",
      "Epoch 79/100\n",
      "12665/12665 [==============================] - 345s 27ms/step - loss: 3.5753 - val_loss: 67.4008\n",
      "Epoch 80/100\n",
      "12665/12665 [==============================] - 366s 29ms/step - loss: 3.5678 - val_loss: 63.5629\n",
      "Epoch 81/100\n",
      "12665/12665 [==============================] - 359s 28ms/step - loss: 3.6170 - val_loss: 64.5831\n",
      "Epoch 82/100\n",
      "12665/12665 [==============================] - 322s 25ms/step - loss: 3.7173 - val_loss: 64.2325\n",
      "Epoch 83/100\n",
      "12665/12665 [==============================] - 318s 25ms/step - loss: 3.6716 - val_loss: 68.7642\n",
      "Epoch 84/100\n",
      "12665/12665 [==============================] - 318s 25ms/step - loss: 3.3919 - val_loss: 63.2144\n",
      "Epoch 85/100\n",
      "12665/12665 [==============================] - 318s 25ms/step - loss: 3.4491 - val_loss: 69.6670\n",
      "Epoch 86/100\n",
      "12665/12665 [==============================] - 318s 25ms/step - loss: 3.5263 - val_loss: 63.2278\n",
      "Epoch 87/100\n",
      "12665/12665 [==============================] - 320s 25ms/step - loss: 3.6148 - val_loss: 60.0389\n",
      "Epoch 88/100\n",
      "12665/12665 [==============================] - 329s 26ms/step - loss: 3.3986 - val_loss: 63.9272\n",
      "Epoch 89/100\n",
      "12665/12665 [==============================] - 323s 25ms/step - loss: 3.3444 - val_loss: 64.0103\n",
      "Epoch 90/100\n",
      "12665/12665 [==============================] - 320s 25ms/step - loss: 3.4681 - val_loss: 59.4870\n",
      "Epoch 91/100\n",
      "12665/12665 [==============================] - 320s 25ms/step - loss: 3.3187 - val_loss: 65.5574\n",
      "Epoch 92/100\n",
      "12665/12665 [==============================] - 320s 25ms/step - loss: 3.2535 - val_loss: 67.4966\n",
      "Epoch 93/100\n",
      "12665/12665 [==============================] - 320s 25ms/step - loss: 3.3428 - val_loss: 63.2212\n",
      "Epoch 94/100\n",
      "12665/12665 [==============================] - 320s 25ms/step - loss: 3.3665 - val_loss: 67.7911\n",
      "Epoch 95/100\n",
      "12665/12665 [==============================] - 320s 25ms/step - loss: 3.2803 - val_loss: 59.2421\n",
      "Epoch 96/100\n",
      "12665/12665 [==============================] - 320s 25ms/step - loss: 3.3963 - val_loss: 62.1945\n",
      "Epoch 97/100\n",
      "12665/12665 [==============================] - 320s 25ms/step - loss: 3.2934 - val_loss: 57.5789\n",
      "Epoch 98/100\n",
      "12665/12665 [==============================] - 320s 25ms/step - loss: 3.1683 - val_loss: 61.3027\n",
      "Epoch 99/100\n",
      "12665/12665 [==============================] - 320s 25ms/step - loss: 3.2471 - val_loss: 67.6127\n",
      "Epoch 100/100\n",
      "12665/12665 [==============================] - 320s 25ms/step - loss: 3.1367 - val_loss: 64.2567\n"
     ]
    }
   ],
   "source": [
    "optimizer = Adam (lr=0.5e-4, beta_1=0.9, beta_2=0.999, epsilon=1e-08, decay=0.0)\n",
    "#optimizer = SGD(lr=1e-4, decay=0.0005, momentum=0.9)\n",
    "#optimizer = RMSprop(lr=1e-4, rho=0.9, epsilon=1e-08, decay=0.0)\n",
    "from keras.losses import mean_squared_error\n",
    "\n",
    "BATCH_SIZE = 2\n",
    "ANCHORS = [5,5]\n",
    "BOX = 1\n",
    "CLASS_WEIGHTS    = np.ones(1, dtype='float32')\n",
    "COORD_SCALE      = 1.0\n",
    "OBJECT_SCALE     = 1.0\n",
    "NO_OBJECT_SCALE  = 1.0\n",
    "CLASS_SCALE      = 1.0\n",
    "WARM_UP_BATCHES  = 0\n",
    "OBJ_THRESHOLD    = 0.5\n",
    "NMS_THRESHOLD    = 0.5\n",
    "\n",
    "\n",
    "rede.compile(loss=lucas_loss, optimizer=optimizer)\n",
    "\n",
    "\n",
    "rede.fit(x, y,validation_data=(x_val,y_val),epochs=100, batch_size=4) #NAO SE ESQUECER DE COLOCAR VALIDATION SET, validation\n",
    "#existe tambem o validation split\n",
    "rede.compile(loss=mean_squared_error, optimizer='sgd', metrics = ['accuracy'])\n",
    "rede.save(pasta_atual+ '/IC_Final/2xskip_100_Epochs.hdf5')"
   ]
  },
  {
   "cell_type": "code",
   "execution_count": 45,
   "metadata": {},
   "outputs": [
    {
     "name": "stdout",
     "output_type": "stream",
     "text": [
      "__________________________________________________________________________________________________\n",
      "Layer (type)                    Output Shape         Param #     Connected to                     \n",
      "==================================================================================================\n",
      "input_2 (InputLayer)            (None, 120, 160, 3)  0                                            \n",
      "__________________________________________________________________________________________________\n",
      "conv_1 (Conv2D)                 (None, 120, 160, 8)  216         input_2[0][0]                    \n",
      "__________________________________________________________________________________________________\n",
      "norm_1 (BatchNormalization)     (None, 120, 160, 8)  32          conv_1[0][0]                     \n",
      "__________________________________________________________________________________________________\n",
      "leaky_re_lu_10 (LeakyReLU)      (None, 120, 160, 8)  0           norm_1[0][0]                     \n",
      "__________________________________________________________________________________________________\n",
      "conv_2 (Conv2D)                 (None, 120, 160, 8)  576         leaky_re_lu_10[0][0]             \n",
      "__________________________________________________________________________________________________\n",
      "norm_2 (BatchNormalization)     (None, 120, 160, 8)  32          conv_2[0][0]                     \n",
      "__________________________________________________________________________________________________\n",
      "leaky_re_lu_11 (LeakyReLU)      (None, 120, 160, 8)  0           norm_2[0][0]                     \n",
      "__________________________________________________________________________________________________\n",
      "conv_3 (Conv2D)                 (None, 120, 160, 16) 1152        leaky_re_lu_11[0][0]             \n",
      "__________________________________________________________________________________________________\n",
      "norm_3 (BatchNormalization)     (None, 120, 160, 16) 64          conv_3[0][0]                     \n",
      "__________________________________________________________________________________________________\n",
      "leaky_re_lu_12 (LeakyReLU)      (None, 120, 160, 16) 0           norm_3[0][0]                     \n",
      "__________________________________________________________________________________________________\n",
      "max_pooling2d_5 (MaxPooling2D)  (None, 60, 80, 16)   0           leaky_re_lu_12[0][0]             \n",
      "__________________________________________________________________________________________________\n",
      "conv_4 (Conv2D)                 (None, 60, 80, 32)   4608        max_pooling2d_5[0][0]            \n",
      "__________________________________________________________________________________________________\n",
      "norm_4 (BatchNormalization)     (None, 60, 80, 32)   128         conv_4[0][0]                     \n",
      "__________________________________________________________________________________________________\n",
      "leaky_re_lu_13 (LeakyReLU)      (None, 60, 80, 32)   0           norm_4[0][0]                     \n",
      "__________________________________________________________________________________________________\n",
      "max_pooling2d_6 (MaxPooling2D)  (None, 30, 40, 32)   0           leaky_re_lu_13[0][0]             \n",
      "__________________________________________________________________________________________________\n",
      "conv_5 (Conv2D)                 (None, 30, 40, 64)   18432       max_pooling2d_6[0][0]            \n",
      "__________________________________________________________________________________________________\n",
      "norm_5 (BatchNormalization)     (None, 30, 40, 64)   256         conv_5[0][0]                     \n",
      "__________________________________________________________________________________________________\n",
      "leaky_re_lu_14 (LeakyReLU)      (None, 30, 40, 64)   0           norm_5[0][0]                     \n",
      "__________________________________________________________________________________________________\n",
      "max_pooling2d_7 (MaxPooling2D)  (None, 15, 20, 64)   0           leaky_re_lu_14[0][0]             \n",
      "__________________________________________________________________________________________________\n",
      "conv_6 (Conv2D)                 (None, 15, 20, 64)   36864       max_pooling2d_7[0][0]            \n",
      "__________________________________________________________________________________________________\n",
      "norm_6 (BatchNormalization)     (None, 15, 20, 64)   256         conv_6[0][0]                     \n",
      "__________________________________________________________________________________________________\n",
      "leaky_re_lu_15 (LeakyReLU)      (None, 15, 20, 64)   0           norm_6[0][0]                     \n",
      "__________________________________________________________________________________________________\n",
      "max_pooling2d_8 (MaxPooling2D)  (None, 15, 20, 64)   0           leaky_re_lu_15[0][0]             \n",
      "__________________________________________________________________________________________________\n",
      "conv_7 (Conv2D)                 (None, 15, 20, 256)  147456      max_pooling2d_8[0][0]            \n",
      "__________________________________________________________________________________________________\n",
      "norm_7 (BatchNormalization)     (None, 15, 20, 256)  1024        conv_7[0][0]                     \n",
      "__________________________________________________________________________________________________\n",
      "leaky_re_lu_16 (LeakyReLU)      (None, 15, 20, 256)  0           norm_7[0][0]                     \n",
      "__________________________________________________________________________________________________\n",
      "conv_skip (Conv2D)              (None, 15, 20, 256)  16384       max_pooling2d_8[0][0]            \n",
      "__________________________________________________________________________________________________\n",
      "conv_8 (Conv2D)                 (None, 15, 20, 256)  589824      leaky_re_lu_16[0][0]             \n",
      "__________________________________________________________________________________________________\n",
      "norm_21 (BatchNormalization)    (None, 15, 20, 256)  1024        conv_skip[0][0]                  \n",
      "__________________________________________________________________________________________________\n",
      "norm_8 (BatchNormalization)     (None, 15, 20, 256)  1024        conv_8[0][0]                     \n",
      "__________________________________________________________________________________________________\n",
      "leaky_re_lu_18 (LeakyReLU)      (None, 15, 20, 256)  0           norm_21[0][0]                    \n",
      "__________________________________________________________________________________________________\n",
      "leaky_re_lu_17 (LeakyReLU)      (None, 15, 20, 256)  0           norm_8[0][0]                     \n",
      "__________________________________________________________________________________________________\n",
      "concatenate_2 (Concatenate)     (None, 15, 20, 512)  0           leaky_re_lu_18[0][0]             \n",
      "                                                                 leaky_re_lu_17[0][0]             \n",
      "__________________________________________________________________________________________________\n",
      "conv_9 (Conv2D)                 (None, 15, 20, 5)    2565        concatenate_2[0][0]              \n",
      "==================================================================================================\n",
      "Total params: 821,917\n",
      "Trainable params: 819,997\n",
      "Non-trainable params: 1,920\n",
      "__________________________________________________________________________________________________\n"
     ]
    }
   ],
   "source": [
    "rede = None\n",
    "rede = minha2_skip_pequena(120,160)\n",
    "rede.summary()"
   ]
  },
  {
   "cell_type": "code",
   "execution_count": 46,
   "metadata": {},
   "outputs": [
    {
     "name": "stdout",
     "output_type": "stream",
     "text": [
      "Train on 12665 samples, validate on 1173 samples\n",
      "Epoch 1/30\n",
      "12665/12665 [==============================] - 315s 25ms/step - loss: 176.3885 - val_loss: 93.8038\n",
      "Epoch 2/30\n",
      "12665/12665 [==============================] - 314s 25ms/step - loss: 55.6267 - val_loss: 71.4113\n",
      "Epoch 3/30\n",
      "12665/12665 [==============================] - 314s 25ms/step - loss: 42.1749 - val_loss: 63.2165\n",
      "Epoch 4/30\n",
      "12665/12665 [==============================] - 314s 25ms/step - loss: 34.3038 - val_loss: 60.4999\n",
      "Epoch 5/30\n",
      "12665/12665 [==============================] - 314s 25ms/step - loss: 29.5881 - val_loss: 57.4493\n",
      "Epoch 6/30\n",
      "12665/12665 [==============================] - 314s 25ms/step - loss: 26.3359 - val_loss: 54.6444\n",
      "Epoch 7/30\n",
      "12665/12665 [==============================] - 314s 25ms/step - loss: 23.4034 - val_loss: 57.1066\n",
      "Epoch 8/30\n",
      "12665/12665 [==============================] - 314s 25ms/step - loss: 21.2528 - val_loss: 51.3850\n",
      "Epoch 9/30\n",
      "12665/12665 [==============================] - 314s 25ms/step - loss: 19.5227 - val_loss: 49.9906\n",
      "Epoch 10/30\n",
      "12665/12665 [==============================] - 314s 25ms/step - loss: 17.8851 - val_loss: 52.7164\n",
      "Epoch 11/30\n",
      "12665/12665 [==============================] - 314s 25ms/step - loss: 16.4887 - val_loss: 51.7544\n",
      "Epoch 12/30\n",
      "12665/12665 [==============================] - 314s 25ms/step - loss: 15.3702 - val_loss: 52.3543\n",
      "Epoch 13/30\n",
      "12665/12665 [==============================] - 314s 25ms/step - loss: 14.1678 - val_loss: 52.9454\n",
      "Epoch 14/30\n",
      "12665/12665 [==============================] - 314s 25ms/step - loss: 13.1819 - val_loss: 55.5563\n",
      "Epoch 15/30\n",
      "12665/12665 [==============================] - 314s 25ms/step - loss: 12.3049 - val_loss: 55.2724\n",
      "Epoch 16/30\n",
      "12665/12665 [==============================] - 314s 25ms/step - loss: 11.7957 - val_loss: 60.7794\n",
      "Epoch 17/30\n",
      "12665/12665 [==============================] - 314s 25ms/step - loss: 11.1884 - val_loss: 53.2147\n",
      "Epoch 18/30\n",
      "12665/12665 [==============================] - 314s 25ms/step - loss: 10.7472 - val_loss: 52.7038\n",
      "Epoch 19/30\n",
      "12665/12665 [==============================] - 314s 25ms/step - loss: 10.2914 - val_loss: 61.9183\n",
      "Epoch 20/30\n",
      "12665/12665 [==============================] - 314s 25ms/step - loss: 9.4595 - val_loss: 56.0510\n",
      "Epoch 21/30\n",
      "12665/12665 [==============================] - 314s 25ms/step - loss: 8.9702 - val_loss: 57.5850\n",
      "Epoch 22/30\n",
      "12665/12665 [==============================] - 314s 25ms/step - loss: 8.7776 - val_loss: 61.5413\n",
      "Epoch 23/30\n",
      "12665/12665 [==============================] - 314s 25ms/step - loss: 8.3813 - val_loss: 54.8575\n",
      "Epoch 24/30\n",
      "12665/12665 [==============================] - 314s 25ms/step - loss: 8.1046 - val_loss: 56.4957\n",
      "Epoch 25/30\n",
      "12665/12665 [==============================] - 314s 25ms/step - loss: 7.2840 - val_loss: 64.0031\n",
      "Epoch 26/30\n",
      "12665/12665 [==============================] - 314s 25ms/step - loss: 7.5095 - val_loss: 52.3940\n",
      "Epoch 27/30\n",
      "12665/12665 [==============================] - 314s 25ms/step - loss: 6.9380 - val_loss: 59.1642\n",
      "Epoch 28/30\n",
      "12665/12665 [==============================] - 314s 25ms/step - loss: 6.8124 - val_loss: 56.3385\n",
      "Epoch 29/30\n",
      "12665/12665 [==============================] - 314s 25ms/step - loss: 6.5527 - val_loss: 61.9783\n",
      "Epoch 30/30\n",
      "12665/12665 [==============================] - 314s 25ms/step - loss: 6.4568 - val_loss: 57.0100\n"
     ]
    }
   ],
   "source": [
    "optimizer = Adam (lr=0.5e-4, beta_1=0.9, beta_2=0.999, epsilon=1e-08, decay=0.0)\n",
    "#optimizer = SGD(lr=1e-4, decay=0.0005, momentum=0.9)\n",
    "#optimizer = RMSprop(lr=1e-4, rho=0.9, epsilon=1e-08, decay=0.0)\n",
    "from keras.losses import mean_squared_error\n",
    "\n",
    "BATCH_SIZE = 2\n",
    "ANCHORS = [5,5]\n",
    "BOX = 1\n",
    "CLASS_WEIGHTS    = np.ones(1, dtype='float32')\n",
    "COORD_SCALE      = 1.0\n",
    "OBJECT_SCALE     = 1.0\n",
    "NO_OBJECT_SCALE  = 1.0\n",
    "CLASS_SCALE      = 1.0\n",
    "WARM_UP_BATCHES  = 0\n",
    "OBJ_THRESHOLD    = 0.5\n",
    "NMS_THRESHOLD    = 0.5\n",
    "\n",
    "\n",
    "rede.compile(loss=lucas_loss, optimizer=optimizer)\n",
    "\n",
    "\n",
    "rede.fit(x, y,validation_data=(x_val,y_val),epochs=30, batch_size=4) #NAO SE ESQUECER DE COLOCAR VALIDATION SET, validation\n",
    "#existe tambem o validation split\n",
    "rede.compile(loss=mean_squared_error, optimizer='sgd', metrics = ['accuracy'])\n",
    "rede.save(pasta_atual+ '/IC_Final/2xskip_30_Epochs.hdf5')"
   ]
  },
  {
   "cell_type": "markdown",
   "metadata": {},
   "source": [
    "## To run the neural network, start here"
   ]
  },
  {
   "cell_type": "code",
   "execution_count": 1,
   "metadata": {},
   "outputs": [
    {
     "name": "stderr",
     "output_type": "stream",
     "text": [
      "Using TensorFlow backend.\n"
     ]
    }
   ],
   "source": [
    "from keras.models import load_model\n",
    "from keras import layers\n",
    "import os\n",
    "import cv2\n",
    "from matplotlib.pyplot import imshow\n",
    "import numpy as np\n",
    "import time\n",
    "\n",
    "os.environ[\"CUDA_VISIBLE_DEVICES\"] = \"-1\"\n",
    "ANCHORS = [5,5]\n",
    "BOX = 1"
   ]
  },
  {
   "cell_type": "code",
   "execution_count": 2,
   "metadata": {},
   "outputs": [],
   "source": [
    "def sigmoid(x):\n",
    "    return 1/(1 + np.exp(np.negative(x)))"
   ]
  },
  {
   "cell_type": "code",
   "execution_count": 3,
   "metadata": {},
   "outputs": [],
   "source": [
    "def respostafinal(Y):\n",
    "    Y = np.reshape(Y, (15,20,7))\n",
    "    classe = sigmoid(Y[...,0])\n",
    "    pe1 = sigmoid(Y[...,5])\n",
    "    pe2 = sigmoid(Y[...,6])\n",
    "    i,j = np.unravel_index(np.argmax(classe), np.shape(classe))\n",
    "    ipe1,jpe1 = np.unravel_index(np.argmax(pe1), np.shape(pe1))\n",
    "    ipe2,jpe2 = np.unravel_index(np.argmax(pe2), np.shape(pe2))\n",
    "    resposta = Y[i,j, 0:5]\n",
    "    resposta[0] = sigmoid(resposta[0])\n",
    "    resposta[1:3] = sigmoid(resposta[1:3])\n",
    "    resposta[3:5] = (np.exp(resposta[3:5]))*np.reshape(ANCHORS, [1,1,BOX,2])\n",
    "    respostape1 = Y[ipe1,jpe1,5]\n",
    "    respostape2 = Y[ipe2,jpe2,6]\n",
    "    respostape1 = sigmoid(respostape1)\n",
    "    respostape2 = sigmoid(respostape2)\n",
    "    return resposta, j, i,respostape1, jpe1, ipe1, respostape2, jpe2, ipe2"
   ]
  },
  {
   "cell_type": "code",
   "execution_count": 4,
   "metadata": {},
   "outputs": [],
   "source": [
    "def respostafinal2(Y):\n",
    "    Y = np.reshape(Y, (15,20,6))\n",
    "    classe = sigmoid(Y[...,0])\n",
    "    pe = sigmoid(Y[...,5])\n",
    "    i,j = np.unravel_index(np.argmax(classe), np.shape(classe))\n",
    "    ipe1,jpe1 = np.unravel_index(np.argmax(pe), np.shape(pe))\n",
    "    pe[ipe1, jpe1] = -6\n",
    "    ipe2,jpe2 = np.unravel_index(np.argmax(pe), np.shape(pe))\n",
    "    resposta = Y[i,j, 0:5]\n",
    "    resposta[0] = sigmoid(resposta[0])\n",
    "    resposta[1:3] = sigmoid(resposta[1:3])\n",
    "    resposta[3:5] = (np.exp(resposta[3:5]))*np.reshape(ANCHORS, [1,1,BOX,2])\n",
    "    respostape1 = Y[ipe1,jpe1,5]\n",
    "    respostape2 = Y[ipe2,jpe2,5]\n",
    "    respostape1 = sigmoid(respostape1)\n",
    "    respostape2 = sigmoid(respostape2)\n",
    "    return resposta, j, i,respostape1, jpe1, ipe1, respostape2, jpe2, ipe2"
   ]
  },
  {
   "cell_type": "code",
   "execution_count": 5,
   "metadata": {},
   "outputs": [],
   "source": [
    "def arrumando25(res, i ,j ,res1, i1, j1, res2, i2, j2):\n",
    "    probabilidade = res[0]\n",
    "    Xc = (res[1] + i*4)*8\n",
    "    Yc = (res[2] + j*4)*8\n",
    "    H = res[4]*640\n",
    "    W = res[3]*640\n",
    "    probabilidade1 = res1\n",
    "    Xc1 = i1*32\n",
    "    Yc1 = j1*32\n",
    "    probabilidade2 = res2\n",
    "    Xc2 = i2*32\n",
    "    Yc2 = j2*32\n",
    "    vetor = [probabilidade, Xc, Yc, W, H, probabilidade1, Xc1, Yc1, probabilidade2, Xc2, Yc2]\n",
    "    return vetor"
   ]
  },
  {
   "cell_type": "code",
   "execution_count": 6,
   "metadata": {},
   "outputs": [],
   "source": [
    "def plotarimagem(resposta, image):\n",
    "    Xc = int(resposta[1])\n",
    "    Yc = int(resposta[2])\n",
    "    largura = resposta[3]\n",
    "    altura = resposta[4]\n",
    "    \n",
    "    Xc1 = int(resposta[6])\n",
    "    Yc1 = int(resposta[7])\n",
    "    \n",
    "    Xc2 = int(resposta[9])\n",
    "    Yc2 = int(resposta[10])\n",
    "    \n",
    "    cv2.rectangle(image, (Xc1, Yc1), (Xc1+32, Yc1+32), [255, 0, 0], 5)\n",
    "    cv2.rectangle(image, (Xc2, Yc2), (Xc2+32, Yc2+32), [0, 255, 0], 5)\n",
    "    \n",
    "    XMAX = int(2*Xc + largura)/2\n",
    "    XMIN = int(2*Xc - largura)/2\n",
    "    YMAX = int(2*Yc + altura)/2\n",
    "    YMIN = int(2*Yc - altura)/2\n",
    "    \n",
    "    cv2.rectangle(image, (XMIN,YMIN), (XMAX, YMAX), [0,0, 255], 5)\n",
    "    cv2.rectangle(image, (Xc, Yc), (Xc+2, Yc+2), [123, 70, 0], 20)\n",
    "    \n",
    "    #cv2.imwrite(pasta_atual + '/apresentacao.jpg', img)\n",
    "    image = image/255\n",
    "    imshow(image)"
   ]
  },
  {
   "cell_type": "markdown",
   "metadata": {},
   "source": [
    "## Import an image and estimate the result\n",
    "\n",
    "Pay attention to the image's file\n",
    "\n",
    "Pay attention to the neural network to be loaded"
   ]
  },
  {
   "cell_type": "code",
   "execution_count": 7,
   "metadata": {},
   "outputs": [],
   "source": [
    "pasta_atual = os.getcwd()\n",
    "yolo = load_model(pasta_atual+ '/Robocup/Um_Treino(4)_Reduzida25.hdf5')"
   ]
  },
  {
   "cell_type": "code",
   "execution_count": 8,
   "metadata": {},
   "outputs": [
    {
     "name": "stdout",
     "output_type": "stream",
     "text": [
      "[0.98051298, 389.93970060348511, 357.1449728012085, 286.72906875610352, 222.44136810302734, 0.0046255536145960157, 576, 0, 0.002614055815133411, 576, 128]\n",
      "0.101495981216\n"
     ]
    },
    {
     "data": {
      "image/png": "[encoded data removed]",
      "text/plain": [
       "<matplotlib.figure.Figure at 0x7f4f5b3e0dd0>"
      ]
     },
     "metadata": {},
     "output_type": "display_data"
    }
   ],
   "source": [
    "img = cv2.imread(pasta_atual + '/teste.png')\n",
    "img = cv2.cvtColor(img, cv2.COLOR_BGR2RGB)\n",
    "img = np.array(img);\n",
    "ima = cv2.resize(img, (160,120), interpolation = cv2.INTER_AREA)\n",
    "ima = ima.astype(float)\n",
    "img = img.astype(float)\n",
    "ima = ima/255\n",
    "ima = np.reshape(ima, (1, 120, 160, 3))\n",
    "\n",
    "\n",
    "start1 = time.time()\n",
    "resposta = yolo.predict(ima)\n",
    "#end1 = time.time()\n",
    "\n",
    "#start2 = time.time()\n",
    "a1, b1,c1, a2, b2, c2, a3, b3, c3 = respostafinal2(resposta)\n",
    "resposta = arrumando25(a1,b1,c1, a2, b2, c2, a3, b3, c3)\n",
    "end2 = time.time()\n",
    "\n",
    "print(resposta)\n",
    "#resposta[4] = resposta[4]-1000\n",
    "plotarimagem(resposta, img)\n",
    "print(end2-start1)\n",
    "#print(end2-start2)"
   ]
  },
  {
   "cell_type": "code",
   "execution_count": null,
   "metadata": {},
   "outputs": [],
   "source": []
  }
 ],
 "metadata": {
  "kernelspec": {
   "display_name": "Python 2",
   "language": "python",
   "name": "python2"
  },
  "language_info": {
   "codemirror_mode": {
    "name": "ipython",
    "version": 2
   },
   "file_extension": ".py",
   "mimetype": "text/x-python",
   "name": "python",
   "nbconvert_exporter": "python",
   "pygments_lexer": "ipython2",
   "version": "2.7.14"
  }
 },
 "nbformat": 4,
 "nbformat_minor": 2
}
