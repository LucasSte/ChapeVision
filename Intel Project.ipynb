{
 "cells": [
  {
   "cell_type": "markdown",
   "metadata": {},
   "source": [
    "# Deep Learning Ball detection Algorithm\n",
    "### This project is suposed to work on ITAndroids soccer playing robot"
   ]
  },
  {
   "cell_type": "markdown",
   "metadata": {},
   "source": [
    "#### First, let's load some libraries"
   ]
  },
  {
   "cell_type": "code",
   "execution_count": null,
   "metadata": {},
   "outputs": [],
   "source": [
    "import os\n",
    "os.environ[\"CUDA_VISIBLE_DEVICES\"] = \"0\""
   ]
  },
  {
   "cell_type": "code",
   "execution_count": null,
   "metadata": {},
   "outputs": [],
   "source": [
    "import tensorflow as tf\n",
    "from keras import layers\n",
    "from keras.layers import Input, Dense, Activation, ZeroPadding2D, BatchNormalization, Flatten, Conv2D\n",
    "from keras.layers import AveragePooling2D, MaxPooling2D, Dropout, GlobalMaxPooling2D, GlobalAveragePooling2D\n",
    "from keras.layers import Reshape, Flatten, Lambda\n",
    "from keras.layers.advanced_activations import LeakyReLU\n",
    "from keras.layers.merge import concatenate\n",
    "from keras.models import Model\n",
    "from keras.preprocessing import image\n",
    "from keras.utils import layer_utils\n",
    "from keras.utils.data_utils import get_file\n",
    "from keras.applications.imagenet_utils import preprocess_input\n",
    "import pydot\n",
    "from IPython.display import SVG\n",
    "from keras.utils.vis_utils import model_to_dot\n",
    "from keras.utils import plot_model\n",
    "from keras.optimizers import SGD, Adam, RMSprop\n",
    "\n",
    "import keras.backend as K\n",
    "K.set_image_data_format('channels_last')\n",
    "import matplotlib.pyplot as plt\n",
    "from matplotlib.pyplot import imshow\n",
    "\n",
    "%matplotlib inline"
   ]
  },
  {
   "cell_type": "markdown",
   "metadata": {},
   "source": [
    "### Then, let's define the neural network model"
   ]
  },
  {
   "cell_type": "code",
   "execution_count": null,
   "metadata": {},
   "outputs": [],
   "source": [
    "def minha2_skip(input_size, cosize):\n",
    "\n",
    "    input_image = Input(shape=(input_size, cosize, 3))\n",
    "\n",
    "    # Layer 1\n",
    "    #Originalmente era quatro, mas coloquei oito\n",
    "    x = Conv2D(8, (3,3), strides=(1,1), padding='same', name='conv_1', use_bias=False)(input_image)\n",
    "    x = BatchNormalization(name='norm_1')(x)\n",
    "    x = LeakyReLU(alpha=0.1)(x)\n",
    "    \n",
    "    \n",
    "        # Layer 2 - 5\n",
    "    for i in range(0,4):\n",
    "        x = Conv2D(8*(2**i), (3,3), strides=(1,1), padding='same', name='conv_' + str(i+2), use_bias=False)(x)\n",
    "        x = BatchNormalization(name='norm_' + str(i+2))(x)\n",
    "        x = LeakyReLU(alpha=0.1)(x)\n",
    "        x = MaxPooling2D(pool_size=(2, 2))(x)\n",
    "\n",
    "        # Layer 6\n",
    "    x = Conv2D(128, (3,3), strides=(1,1), padding='same', name='conv_6', use_bias=False)(x)\n",
    "    x = BatchNormalization(name='norm_6')(x)\n",
    "    x = LeakyReLU(alpha=0.1)(x)\n",
    "    x = MaxPooling2D(pool_size=(2, 2), strides=(1,1), padding='same')(x)\n",
    "    \n",
    "    skip_connection = x\n",
    "\n",
    "        # Layer 7 - 8\n",
    "    for i in range(0,2):\n",
    "        x = Conv2D(256, (3,3), strides=(1,1), padding='same', name='conv_' + str(i+7), use_bias=False)(x)\n",
    "        x = BatchNormalization(name='norm_' + str(i+7))(x)\n",
    "        x = LeakyReLU(alpha=0.1)(x)\n",
    "        \n",
    "    skip_connection = Conv2D(256, (1,1), strides=(1,1), padding='same', name='conv_skip', use_bias=False)(skip_connection)\n",
    "    skip_connection = BatchNormalization(name='norm_21')(skip_connection)\n",
    "    skip_connection = LeakyReLU(alpha=0.1)(skip_connection)\n",
    "    #skip_connection = Lambda(space_to_depth_x2)(skip_connection)\n",
    "\n",
    "    x = concatenate([skip_connection, x])\n",
    "        \n",
    "        \n",
    "    x = Conv2D(5, (1,1), strides = (1,1), padding = 'same', name = 'conv_9', use_bias = True)(x)\n",
    "        \n",
    "    model = Model(inputs = input_image, outputs=x, name='Fast')\n",
    "        \n",
    "    \n",
    "    return model"
   ]
  },
  {
   "cell_type": "code",
   "execution_count": null,
   "metadata": {},
   "outputs": [],
   "source": [
    "rede = minha2_skip(240,320)\n",
    "rede.summary()"
   ]
  },
  {
   "cell_type": "markdown",
   "metadata": {},
   "source": [
    "#### Now, let's impor libraries to load images to train the network"
   ]
  },
  {
   "cell_type": "code",
   "execution_count": null,
   "metadata": {},
   "outputs": [],
   "source": [
    "import glob\n",
    "import bisect\n",
    "from os.path import basename\n",
    "import xml.etree.ElementTree\n",
    "import numpy as np\n",
    "import cv2\n",
    "\n",
    "pasta_atual = os.getcwd()"
   ]
  },
  {
   "cell_type": "code",
   "execution_count": null,
   "metadata": {},
   "outputs": [],
   "source": [
    "def Metodo2(pasta):  #imagem em 1/2 certo com minha rede\n",
    "    \n",
    "    nomesdarquivos = glob.glob(pasta + '/*.xml')\n",
    "    fotos = glob.glob(pasta + '/*.png')\n",
    "    maisfotos = glob.glob(pasta+ '/*.jpg')\n",
    "    for nome in maisfotos:\n",
    "        fotos.append(nome)    \n",
    "    nomesdarquivos.sort()\n",
    "    fotos.sort()\n",
    "    nomesdasanotacoes = list()\n",
    "    for nomeindo in nomesdarquivos:\n",
    "        bisect.insort(nomesdasanotacoes, basename(nomeindo).split('.')[0])\n",
    "        \n",
    "    \n",
    "    para_imprimir = list()\n",
    "    entrada = list()\n",
    "    for nome in nomesdasanotacoes:\n",
    "        e = xml.etree.ElementTree.parse(pasta+'/'+nome+'.xml').getroot()\n",
    "        ball = e.find('object')\n",
    "        if ball is None:\n",
    "            coisa = np.zeros((15,20,5), dtype=float)\n",
    "            para_imprimir.append(coisa)\n",
    "        else:\n",
    "            coisa = np.zeros((15,20,5), dtype=float)\n",
    "            xmin = float(ball[4][0].text)/2\n",
    "            ymin = float(ball[4][1].text)/2\n",
    "            xmax = float(ball[4][2].text)/2\n",
    "            ymax = float(ball[4][3].text)/2\n",
    "            Xc = (xmin + xmax)/2\n",
    "            posicx = int(Xc/16)\n",
    "            Xc = Xc - posicx*16\n",
    "            Xc = Xc/16\n",
    "            Yc = (ymin + ymax)/2\n",
    "            posicy = int(Yc/16)\n",
    "            Yc = Yc - posicy*16\n",
    "            Yc = Yc/16\n",
    "            largura = (xmax - xmin)/320\n",
    "            altura = (ymax - ymin)/320\n",
    "            coisa[posicy][posicx] = (1,Xc, Yc, largura, altura)\n",
    "            \n",
    "            para_imprimir.append(coisa)\n",
    "        \n",
    "    Y = np.array(para_imprimir)\n",
    "\n",
    "    for arquivo in fotos:\n",
    "        img = cv2.imread(arquivo)\n",
    "        img = cv2.resize(img, (320,240), interpolation = cv2.INTER_AREA)\n",
    "        entrada.append(img)\n",
    "        \n",
    "    \n",
    "    X = np.array(entrada)\n",
    "    X = X.astype(float)\n",
    "    X = X/255\n",
    "    \n",
    "    return X, Y"
   ]
  },
  {
   "cell_type": "markdown",
   "metadata": {},
   "source": [
    "#### Loading images to train the network"
   ]
  },
  {
   "cell_type": "code",
   "execution_count": null,
   "metadata": {},
   "outputs": [],
   "source": [
    "x , y = Metodo2(pasta_atual + '/teste2')\n",
    "imshow(x[0])\n",
    "print(\"Shape of X\", x.shape)\n",
    "print(\"Shape of Y\", y.shape)"
   ]
  },
  {
   "cell_type": "markdown",
   "metadata": {},
   "source": [
    "#### Let's define the cost function and train the Convolutional Neural Network"
   ]
  },
  {
   "cell_type": "code",
   "execution_count": null,
   "metadata": {},
   "outputs": [],
   "source": [
    "def custo_yolo(y_true, y_pred):\n",
    "    Xc_true = y_true[...,1]\n",
    "    Xc_pred = tf.sigmoid(y_pred[..., 1])        ##mudei aqui\n",
    "    Yc_true = y_true[..., 2]\n",
    "    Yc_pred = tf.sigmoid(y_pred[..., 2])        ##mudei aqui\n",
    "    W_true = tf.sqrt(tf.abs(y_true[...,3]))\n",
    "    H_true = tf.sqrt(tf.abs(y_true[...,4]))\n",
    "    #WH_pred = tf.sqrt(tf.abs(y_pred[..., 3:5]))\n",
    "    WH_pred = tf.sqrt(tf.abs(tf.exp(y_pred[..., 3:5])*np.reshape(ANCHORS, [1,1,BOX,2])))\n",
    "    W_pred = WH_pred[...,0]\n",
    "    H_pred = WH_pred[...,1]\n",
    "    confidence_true = y_true[...,0]\n",
    "    confidence_pred = tf.sigmoid(y_pred[...,0])\n",
    "    class_true = y_true[...,0]\n",
    "    \n",
    "    Xc_pred = tf.multiply(class_true,Xc_pred)\n",
    "    Yc_pred = tf.multiply(class_true, Yc_pred)\n",
    "    H_pred = tf.multiply(class_true, H_pred)\n",
    "    W_pred = tf.multiply(class_true, W_pred)\n",
    "    \n",
    "    loss_xy = (tf.square(Xc_pred - Xc_true) + tf.square(Yc_pred - Yc_true))\n",
    "    loss_xy = 5*tf.reduce_sum(loss_xy)\n",
    "    \n",
    "    #W_pred = tf.cast(W_pred, dtype = 'float32')\n",
    "    #W_true = tf.cast(W_true, dtype = 'float32')\n",
    "    #H_pred = tf.cast(H_pred, dtype = 'float32')\n",
    "    #H_true = tf.cast(H_true, dtype = 'float32')\n",
    "    #W_dif = tf.square(tf.sqrt(tf.abs(W_pred)) - tf.sqrt(tf.abs(W_true)))\n",
    "    #H_dif = tf.square(tf.sqrt(tf.abs(H_true)) - tf.sqrt(tf.abs(H_pred)))\n",
    "    loss_wh = (tf.square(W_true - W_pred) + tf.square(H_pred - H_true))\n",
    "    loss_wh = 10*tf.reduce_sum(loss_wh)  #era 10\n",
    "    \n",
    "    no_object = 1 - class_true\n",
    "    diff_conf = tf.square(confidence_true - confidence_pred)\n",
    "    loss_no_object = (tf.multiply(diff_conf, no_object))\n",
    "    loss_no_object = 0.5*tf.reduce_sum(loss_no_object)  #era 0.5\n",
    "    \n",
    "    loss_object = 5*tf.reduce_sum(tf.multiply(class_true, diff_conf)) #era 5\n",
    "    \n",
    "    #loss_class = tf.nn.sigmoid_cross_entropy_with_logits(labels = class_true, logits = class_pred)\n",
    "    #loss_class = tf.reduce_sum(loss_class)\n",
    "    \n",
    "    loss = loss_xy + loss_wh + loss_no_object + loss_object #+ loss_class\n",
    "    \n",
    "    \n",
    "    return loss"
   ]
  },
  {
   "cell_type": "code",
   "execution_count": null,
   "metadata": {},
   "outputs": [],
   "source": [
    "optimizer = Adam (lr=0.5e-4, beta_1=0.9, beta_2=0.999, epsilon=1e-08, decay=0.0)\n",
    "\n",
    "rede.compile(loss=custo_yolo, optimizer=optimizer)"
   ]
  },
  {
   "cell_type": "code",
   "execution_count": null,
   "metadata": {},
   "outputs": [],
   "source": [
    "rede.fit(x, y, epochs=100, validation_split=0.2, batch_size=3)\n",
    "\n",
    "rede.compile(loss = mean_squared_error, optimizer='adam', metrics = ['accuracy'])\n",
    "\n",
    "rede.save(pasta_atual+ '/teste1.hdf5')"
   ]
  },
  {
   "cell_type": "markdown",
   "metadata": {},
   "source": [
    "## To run the nerual network with an image, we start here"
   ]
  },
  {
   "cell_type": "code",
   "execution_count": null,
   "metadata": {},
   "outputs": [],
   "source": [
    "from keras.models import load_model\n",
    "from keras import layers\n",
    "import os\n",
    "import cv2\n",
    "from matplotlib.pyplot import imshow\n",
    "import numpy as np\n",
    "import time\n",
    "\n",
    "os.environ[\"CUDA_VISIBLE_DEVICES\"] = \"-1\"\n",
    "ANCHORS = [5,5]\n",
    "BOX = 1"
   ]
  },
  {
   "cell_type": "code",
   "execution_count": null,
   "metadata": {},
   "outputs": [],
   "source": [
    "def sigmoid(x):\n",
    "    return 1/(1 + np.exp(np.negative(x)))"
   ]
  },
  {
   "cell_type": "code",
   "execution_count": null,
   "metadata": {},
   "outputs": [],
   "source": [
    "def respostafinal(Y):\n",
    "    Y = np.reshape(Y, (15,20,5))\n",
    "    classe = sigmoid(Y[..., 0])\n",
    "    classe = np.reshape(classe, (15,20))\n",
    "    i,j = np.unravel_index(np.argmax(classe), np.shape(classe))\n",
    "    resposta = Y[i,j, :]\n",
    "    resposta[0] = sigmoid(resposta[0])\n",
    "    resposta[1:3] = sigmoid(resposta[1:3])\n",
    "    resposta[3:5] = (np.exp(resposta[3:5]))*np.reshape(ANCHORS, [1,1,BOX,2])\n",
    "    return resposta, j, i"
   ]
  },
  {
   "cell_type": "code",
   "execution_count": null,
   "metadata": {},
   "outputs": [],
   "source": [
    "def arrumando50(res,i , j):\n",
    "    probabilidade = res[0]\n",
    "    Xc = (res[1] + i*16)*2\n",
    "    Yc = (res[2] + j*16)*2\n",
    "    H = res[4]*640\n",
    "    W = res[3]*640\n",
    "    vetor = [probabilidade, Xc, Yc, W, H]\n",
    "    return vetor"
   ]
  },
  {
   "cell_type": "code",
   "execution_count": null,
   "metadata": {},
   "outputs": [],
   "source": [
    "def plotarimagem(resposta, image):\n",
    "    Xc = int(resposta[1])\n",
    "    Yc = int(resposta[2])\n",
    "    largura = resposta[3]\n",
    "    altura = resposta[4]\n",
    "    XMAX = int(2*Xc + largura)/2\n",
    "    XMIN = int(2*Xc - largura)/2\n",
    "    YMAX = int(2*Yc + altura)/2\n",
    "    YMIN = int(2*Yc - altura)/2\n",
    "    valor = (XMIN, YMIN, XMAX, YMAX)\n",
    "    cv2.rectangle(image, (XMIN, YMIN), (XMAX, YMAX), [0, 124, 245], 5)\n",
    "    cv2.rectangle(image, (Xc, Yc), (Xc+2, Yc+2), [255, 0, 0], 20)\n",
    "    #cv2.imwrite(pasta_atual + '/apresentacao.jpg', img)\n",
    "    image = image/255\n",
    "    imshow(image)"
   ]
  },
  {
   "cell_type": "markdown",
   "metadata": {},
   "source": [
    "### Let's load a Keras model"
   ]
  },
  {
   "cell_type": "code",
   "execution_count": null,
   "metadata": {},
   "outputs": [],
   "source": [
    "pasta_atual = os.getcwd()\n",
    "yolo = load_model(pasta_atual+ '/teste1.hdf5')"
   ]
  },
  {
   "cell_type": "markdown",
   "metadata": {},
   "source": [
    "### Let's load an image and estimate the result"
   ]
  },
  {
   "cell_type": "code",
   "execution_count": null,
   "metadata": {},
   "outputs": [],
   "source": [
    "#img = cv2.imread(lucas[i])\n",
    "img = cv2.imread(pasta_atual + '/nova4.png')\n",
    "img = cv2.cvtColor(img, cv2.COLOR_BGR2RGB)\n",
    "img = np.array(img)\n",
    "ima = cv2.resize(img, (320,240), interpolation = cv2.INTER_AREA)\n",
    "ima = ima.astype(float)\n",
    "img = img.astype(float)\n",
    "ima = ima/255\n",
    "ima = np.reshape(ima, (1, 240, 320, 3))\n",
    "\n",
    "\n",
    "start1 = time.time()\n",
    "resposta = yolo.predict(ima)\n",
    "#end1 = time.time()\n",
    "\n",
    "#start2 = time.time()\n",
    "a, b,c = respostafinal(resposta)\n",
    "resposta = arrumando50(a,b,c)\n",
    "end2 = time.time()\n",
    "\n",
    "print(resposta)\n",
    "#resposta[4] = resposta[4]-1000\n",
    "plotarimagem(resposta, img)\n",
    "print(end2-start1)\n",
    "#print(end2-start2)"
   ]
  }
 ],
 "metadata": {
  "kernelspec": {
   "display_name": "Python 2",
   "language": "python",
   "name": "python2"
  },
  "language_info": {
   "codemirror_mode": {
    "name": "ipython",
    "version": 2
   },
   "file_extension": ".py",
   "mimetype": "text/x-python",
   "name": "python",
   "nbconvert_exporter": "python",
   "pygments_lexer": "ipython2",
   "version": "2.7.14"
  }
 },
 "nbformat": 4,
 "nbformat_minor": 2
}
